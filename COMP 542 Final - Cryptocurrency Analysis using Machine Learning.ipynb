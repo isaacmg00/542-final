{
 "cells": [
  {
   "cell_type": "markdown",
   "id": "05cf5882",
   "metadata": {},
   "source": [
    "### COMP 542 - Machine Learning Cryptocurrency Analysis: Multiple Case Studies"
   ]
  },
  {
   "cell_type": "markdown",
   "id": "aef921eb",
   "metadata": {},
   "source": [
    "#### By: Isaac Garcia & Brent Gibson (Group 8)\n"
   ]
  },
  {
   "cell_type": "markdown",
   "id": "9d9bdbe4",
   "metadata": {},
   "source": [
    "##### Case Study 1: Discovering new cryptocurrencies with potential through means of clustering."
   ]
  },
  {
   "cell_type": "markdown",
   "id": "8a7fd422",
   "metadata": {},
   "source": [
    "Objective: take a list of 8218 from CryptoCompare API cryptocurrencies and their information, cleanse it, and create clusters. Ideally, investors would want to invest in the safest cryptocurrencies in the same cluster as Bitcoin, Ethereum, Litecoin, as these are more promising."
   ]
  },
  {
   "cell_type": "code",
   "execution_count": 170,
   "id": "c5eb81f8",
   "metadata": {
    "scrolled": false
   },
   "outputs": [
    {
     "data": {
      "text/html": [
       "<div>\n",
       "<style scoped>\n",
       "    .dataframe tbody tr th:only-of-type {\n",
       "        vertical-align: middle;\n",
       "    }\n",
       "\n",
       "    .dataframe tbody tr th {\n",
       "        vertical-align: top;\n",
       "    }\n",
       "\n",
       "    .dataframe thead th {\n",
       "        text-align: right;\n",
       "    }\n",
       "</style>\n",
       "<table border=\"1\" class=\"dataframe\">\n",
       "  <thead>\n",
       "    <tr style=\"text-align: right;\">\n",
       "      <th></th>\n",
       "      <th>CoinName</th>\n",
       "      <th>Algorithm</th>\n",
       "      <th>IsTrading</th>\n",
       "      <th>ProofType</th>\n",
       "      <th>TotalCoinsMined</th>\n",
       "      <th>CirculatingSupply</th>\n",
       "    </tr>\n",
       "  </thead>\n",
       "  <tbody>\n",
       "    <tr>\n",
       "      <th>UNDEAD</th>\n",
       "      <td>Undead Blocks</td>\n",
       "      <td>N/A</td>\n",
       "      <td>True</td>\n",
       "      <td>N/A</td>\n",
       "      <td>500000000</td>\n",
       "      <td>0</td>\n",
       "    </tr>\n",
       "    <tr>\n",
       "      <th>SLEEPEE</th>\n",
       "      <td>SleepFuture</td>\n",
       "      <td>N/A</td>\n",
       "      <td>True</td>\n",
       "      <td>N/A</td>\n",
       "      <td>1431241.007423</td>\n",
       "      <td>0</td>\n",
       "    </tr>\n",
       "    <tr>\n",
       "      <th>PETO</th>\n",
       "      <td>Petoverse</td>\n",
       "      <td>N/A</td>\n",
       "      <td>False</td>\n",
       "      <td>N/A</td>\n",
       "      <td>1032472.53692</td>\n",
       "      <td>0</td>\n",
       "    </tr>\n",
       "    <tr>\n",
       "      <th>FLD</th>\n",
       "      <td>FLUID</td>\n",
       "      <td>N/A</td>\n",
       "      <td>False</td>\n",
       "      <td>N/A</td>\n",
       "      <td>NaN</td>\n",
       "      <td>NaN</td>\n",
       "    </tr>\n",
       "    <tr>\n",
       "      <th>GARTS</th>\n",
       "      <td>Glink Arts Share</td>\n",
       "      <td>N/A</td>\n",
       "      <td>True</td>\n",
       "      <td>N/A</td>\n",
       "      <td>0</td>\n",
       "      <td>0</td>\n",
       "    </tr>\n",
       "  </tbody>\n",
       "</table>\n",
       "</div>"
      ],
      "text/plain": [
       "                 CoinName Algorithm IsTrading ProofType TotalCoinsMined  \\\n",
       "UNDEAD      Undead Blocks       N/A      True       N/A       500000000   \n",
       "SLEEPEE       SleepFuture       N/A      True       N/A  1431241.007423   \n",
       "PETO            Petoverse       N/A     False       N/A   1032472.53692   \n",
       "FLD                 FLUID       N/A     False       N/A             NaN   \n",
       "GARTS    Glink Arts Share       N/A      True       N/A               0   \n",
       "\n",
       "        CirculatingSupply  \n",
       "UNDEAD                  0  \n",
       "SLEEPEE                 0  \n",
       "PETO                    0  \n",
       "FLD                   NaN  \n",
       "GARTS                   0  "
      ]
     },
     "execution_count": 170,
     "metadata": {},
     "output_type": "execute_result"
    }
   ],
   "source": [
    "import urllib.request, json \n",
    "import pandas as pd\n",
    "from sklearn.preprocessing import StandardScaler, MinMaxScaler\n",
    "\n",
    "\n",
    "with urllib.request.urlopen(\"https://min-api.cryptocompare.com/data/all/coinlist\") as url:\n",
    "    data = json.loads(url.read().decode())\n",
    "    \n",
    "data=data['Data']\n",
    "\n",
    "\n",
    "df = pd.DataFrame.from_dict(data)\n",
    "df2 = df.transpose()\n",
    "df2 = df2.filter(['CoinName', 'Algorithm', 'IsTrading', 'ProofType', 'TotalCoinsMined', 'CirculatingSupply'],axis=1)\n",
    "df2.tail()"
   ]
  },
  {
   "cell_type": "code",
   "execution_count": 171,
   "id": "1f01e25e",
   "metadata": {
    "scrolled": true
   },
   "outputs": [
    {
     "data": {
      "text/plain": [
       "(8226, 6)"
      ]
     },
     "execution_count": 171,
     "metadata": {},
     "output_type": "execute_result"
    }
   ],
   "source": [
    "df2.shape\n"
   ]
  },
  {
   "cell_type": "markdown",
   "id": "53d32623",
   "metadata": {},
   "source": [
    "We're only interested in the cryptos that are active and are being mined, so that this gets rid of the NaN entries which would mess up the training."
   ]
  },
  {
   "cell_type": "code",
   "execution_count": 172,
   "id": "2656984d",
   "metadata": {},
   "outputs": [
    {
     "data": {
      "text/plain": [
       "(2857, 5)"
      ]
     },
     "execution_count": 172,
     "metadata": {},
     "output_type": "execute_result"
    }
   ],
   "source": [
    "# data cleaning\n",
    "df2 = df2[df2.IsTrading != 0]\n",
    "df2 = df2.drop(columns=\"IsTrading\")\n",
    "df2 = df2[~(df2.TotalCoinsMined <= 0)]\n",
    "#df2 = df2[~(df2.CirculatingSupply <= 0)]\n",
    "df2 = df2.dropna()\n",
    "df2.shape"
   ]
  },
  {
   "cell_type": "markdown",
   "id": "0512c75f",
   "metadata": {},
   "source": [
    "From the original 8218 currencies, there are only 2850 now after filtering that we need to cluster"
   ]
  },
  {
   "cell_type": "code",
   "execution_count": 173,
   "id": "c6be389e",
   "metadata": {},
   "outputs": [
    {
     "data": {
      "text/html": [
       "<div>\n",
       "<style scoped>\n",
       "    .dataframe tbody tr th:only-of-type {\n",
       "        vertical-align: middle;\n",
       "    }\n",
       "\n",
       "    .dataframe tbody tr th {\n",
       "        vertical-align: top;\n",
       "    }\n",
       "\n",
       "    .dataframe thead th {\n",
       "        text-align: right;\n",
       "    }\n",
       "</style>\n",
       "<table border=\"1\" class=\"dataframe\">\n",
       "  <thead>\n",
       "    <tr style=\"text-align: right;\">\n",
       "      <th></th>\n",
       "      <th>Algorithm</th>\n",
       "      <th>ProofType</th>\n",
       "      <th>TotalCoinsMined</th>\n",
       "      <th>CirculatingSupply</th>\n",
       "    </tr>\n",
       "  </thead>\n",
       "  <tbody>\n",
       "    <tr>\n",
       "      <th>42</th>\n",
       "      <td>Scrypt</td>\n",
       "      <td>PoW/PoS</td>\n",
       "      <td>41.999952</td>\n",
       "      <td>41.999952</td>\n",
       "    </tr>\n",
       "    <tr>\n",
       "      <th>300</th>\n",
       "      <td>N/A</td>\n",
       "      <td>N/A</td>\n",
       "      <td>300</td>\n",
       "      <td>0</td>\n",
       "    </tr>\n",
       "    <tr>\n",
       "      <th>NSR</th>\n",
       "      <td>PoS</td>\n",
       "      <td>PoS</td>\n",
       "      <td>6177456965.8373</td>\n",
       "      <td>0</td>\n",
       "    </tr>\n",
       "    <tr>\n",
       "      <th>TRI</th>\n",
       "      <td>X13</td>\n",
       "      <td>PoW/PoS</td>\n",
       "      <td>191623.903871</td>\n",
       "      <td>0</td>\n",
       "    </tr>\n",
       "    <tr>\n",
       "      <th>CMTC</th>\n",
       "      <td>Scrypt</td>\n",
       "      <td>PoW</td>\n",
       "      <td>872830</td>\n",
       "      <td>0</td>\n",
       "    </tr>\n",
       "  </tbody>\n",
       "</table>\n",
       "</div>"
      ],
      "text/plain": [
       "     Algorithm ProofType  TotalCoinsMined CirculatingSupply\n",
       "42      Scrypt   PoW/PoS        41.999952         41.999952\n",
       "300        N/A       N/A              300                 0\n",
       "NSR        PoS       PoS  6177456965.8373                 0\n",
       "TRI        X13   PoW/PoS    191623.903871                 0\n",
       "CMTC    Scrypt       PoW           872830                 0"
      ]
     },
     "execution_count": 173,
     "metadata": {},
     "output_type": "execute_result"
    }
   ],
   "source": [
    "# coin name column provides no value but will be needed later\n",
    "names = pd.DataFrame(df2.CoinName)\n",
    "df2 = df2.drop(columns=\"CoinName\")\n",
    "df2.head()"
   ]
  },
  {
   "cell_type": "markdown",
   "id": "349395ab",
   "metadata": {},
   "source": [
    "Removing extra redundancies from the data"
   ]
  },
  {
   "cell_type": "code",
   "execution_count": 174,
   "id": "9ef21267",
   "metadata": {},
   "outputs": [
    {
     "name": "stdout",
     "output_type": "stream",
     "text": [
      "(2857, 116)\n"
     ]
    },
    {
     "data": {
      "text/html": [
       "<div>\n",
       "<style scoped>\n",
       "    .dataframe tbody tr th:only-of-type {\n",
       "        vertical-align: middle;\n",
       "    }\n",
       "\n",
       "    .dataframe tbody tr th {\n",
       "        vertical-align: top;\n",
       "    }\n",
       "\n",
       "    .dataframe thead th {\n",
       "        text-align: right;\n",
       "    }\n",
       "</style>\n",
       "<table border=\"1\" class=\"dataframe\">\n",
       "  <thead>\n",
       "    <tr style=\"text-align: right;\">\n",
       "      <th></th>\n",
       "      <th>TotalCoinsMined</th>\n",
       "      <th>CirculatingSupply</th>\n",
       "      <th>Algorithm_Autolykos</th>\n",
       "      <th>Algorithm_BEP-2</th>\n",
       "      <th>Algorithm_BEP-2 Token</th>\n",
       "      <th>Algorithm_BEP-20 Token</th>\n",
       "      <th>Algorithm_BLAKE256</th>\n",
       "      <th>Algorithm_BMW512 / Echo512</th>\n",
       "      <th>Algorithm_Blake2B + SHA3</th>\n",
       "      <th>Algorithm_Blake2b</th>\n",
       "      <th>...</th>\n",
       "      <th>ProofType_TPoS</th>\n",
       "      <th>ProofType_XRP LCP</th>\n",
       "      <th>ProofType_Zero-Knowledge Proof</th>\n",
       "      <th>ProofType_dPoS</th>\n",
       "      <th>ProofType_dPoS/BFT</th>\n",
       "      <th>ProofType_dPoW</th>\n",
       "      <th>ProofType_dPoW/PoW</th>\n",
       "      <th>ProofType_ePoW</th>\n",
       "      <th>ProofType_fPoW + PBFT</th>\n",
       "      <th>ProofType_nPoS/PoC</th>\n",
       "    </tr>\n",
       "  </thead>\n",
       "  <tbody>\n",
       "    <tr>\n",
       "      <th>42</th>\n",
       "      <td>41.999952</td>\n",
       "      <td>41.999952</td>\n",
       "      <td>0</td>\n",
       "      <td>0</td>\n",
       "      <td>0</td>\n",
       "      <td>0</td>\n",
       "      <td>0</td>\n",
       "      <td>0</td>\n",
       "      <td>0</td>\n",
       "      <td>0</td>\n",
       "      <td>...</td>\n",
       "      <td>0</td>\n",
       "      <td>0</td>\n",
       "      <td>0</td>\n",
       "      <td>0</td>\n",
       "      <td>0</td>\n",
       "      <td>0</td>\n",
       "      <td>0</td>\n",
       "      <td>0</td>\n",
       "      <td>0</td>\n",
       "      <td>0</td>\n",
       "    </tr>\n",
       "    <tr>\n",
       "      <th>300</th>\n",
       "      <td>300</td>\n",
       "      <td>0</td>\n",
       "      <td>0</td>\n",
       "      <td>0</td>\n",
       "      <td>0</td>\n",
       "      <td>0</td>\n",
       "      <td>0</td>\n",
       "      <td>0</td>\n",
       "      <td>0</td>\n",
       "      <td>0</td>\n",
       "      <td>...</td>\n",
       "      <td>0</td>\n",
       "      <td>0</td>\n",
       "      <td>0</td>\n",
       "      <td>0</td>\n",
       "      <td>0</td>\n",
       "      <td>0</td>\n",
       "      <td>0</td>\n",
       "      <td>0</td>\n",
       "      <td>0</td>\n",
       "      <td>0</td>\n",
       "    </tr>\n",
       "    <tr>\n",
       "      <th>NSR</th>\n",
       "      <td>6177456965.8373</td>\n",
       "      <td>0</td>\n",
       "      <td>0</td>\n",
       "      <td>0</td>\n",
       "      <td>0</td>\n",
       "      <td>0</td>\n",
       "      <td>0</td>\n",
       "      <td>0</td>\n",
       "      <td>0</td>\n",
       "      <td>0</td>\n",
       "      <td>...</td>\n",
       "      <td>0</td>\n",
       "      <td>0</td>\n",
       "      <td>0</td>\n",
       "      <td>0</td>\n",
       "      <td>0</td>\n",
       "      <td>0</td>\n",
       "      <td>0</td>\n",
       "      <td>0</td>\n",
       "      <td>0</td>\n",
       "      <td>0</td>\n",
       "    </tr>\n",
       "    <tr>\n",
       "      <th>TRI</th>\n",
       "      <td>191623.903871</td>\n",
       "      <td>0</td>\n",
       "      <td>0</td>\n",
       "      <td>0</td>\n",
       "      <td>0</td>\n",
       "      <td>0</td>\n",
       "      <td>0</td>\n",
       "      <td>0</td>\n",
       "      <td>0</td>\n",
       "      <td>0</td>\n",
       "      <td>...</td>\n",
       "      <td>0</td>\n",
       "      <td>0</td>\n",
       "      <td>0</td>\n",
       "      <td>0</td>\n",
       "      <td>0</td>\n",
       "      <td>0</td>\n",
       "      <td>0</td>\n",
       "      <td>0</td>\n",
       "      <td>0</td>\n",
       "      <td>0</td>\n",
       "    </tr>\n",
       "    <tr>\n",
       "      <th>CMTC</th>\n",
       "      <td>872830</td>\n",
       "      <td>0</td>\n",
       "      <td>0</td>\n",
       "      <td>0</td>\n",
       "      <td>0</td>\n",
       "      <td>0</td>\n",
       "      <td>0</td>\n",
       "      <td>0</td>\n",
       "      <td>0</td>\n",
       "      <td>0</td>\n",
       "      <td>...</td>\n",
       "      <td>0</td>\n",
       "      <td>0</td>\n",
       "      <td>0</td>\n",
       "      <td>0</td>\n",
       "      <td>0</td>\n",
       "      <td>0</td>\n",
       "      <td>0</td>\n",
       "      <td>0</td>\n",
       "      <td>0</td>\n",
       "      <td>0</td>\n",
       "    </tr>\n",
       "  </tbody>\n",
       "</table>\n",
       "<p>5 rows × 116 columns</p>\n",
       "</div>"
      ],
      "text/plain": [
       "      TotalCoinsMined CirculatingSupply  Algorithm_Autolykos  Algorithm_BEP-2  \\\n",
       "42          41.999952         41.999952                    0                0   \n",
       "300               300                 0                    0                0   \n",
       "NSR   6177456965.8373                 0                    0                0   \n",
       "TRI     191623.903871                 0                    0                0   \n",
       "CMTC           872830                 0                    0                0   \n",
       "\n",
       "      Algorithm_BEP-2 Token  Algorithm_BEP-20 Token  Algorithm_BLAKE256  \\\n",
       "42                        0                       0                   0   \n",
       "300                       0                       0                   0   \n",
       "NSR                       0                       0                   0   \n",
       "TRI                       0                       0                   0   \n",
       "CMTC                      0                       0                   0   \n",
       "\n",
       "      Algorithm_BMW512 / Echo512  Algorithm_Blake2B + SHA3  Algorithm_Blake2b  \\\n",
       "42                             0                         0                  0   \n",
       "300                            0                         0                  0   \n",
       "NSR                            0                         0                  0   \n",
       "TRI                            0                         0                  0   \n",
       "CMTC                           0                         0                  0   \n",
       "\n",
       "      ...  ProofType_TPoS  ProofType_XRP LCP  ProofType_Zero-Knowledge Proof  \\\n",
       "42    ...               0                  0                               0   \n",
       "300   ...               0                  0                               0   \n",
       "NSR   ...               0                  0                               0   \n",
       "TRI   ...               0                  0                               0   \n",
       "CMTC  ...               0                  0                               0   \n",
       "\n",
       "      ProofType_dPoS  ProofType_dPoS/BFT  ProofType_dPoW  ProofType_dPoW/PoW  \\\n",
       "42                 0                   0               0                   0   \n",
       "300                0                   0               0                   0   \n",
       "NSR                0                   0               0                   0   \n",
       "TRI                0                   0               0                   0   \n",
       "CMTC               0                   0               0                   0   \n",
       "\n",
       "      ProofType_ePoW  ProofType_fPoW + PBFT  ProofType_nPoS/PoC  \n",
       "42                 0                      0                   0  \n",
       "300                0                      0                   0  \n",
       "NSR                0                      0                   0  \n",
       "TRI                0                      0                   0  \n",
       "CMTC               0                      0                   0  \n",
       "\n",
       "[5 rows x 116 columns]"
      ]
     },
     "execution_count": 174,
     "metadata": {},
     "output_type": "execute_result"
    }
   ],
   "source": [
    "X = pd.get_dummies(df2, columns=[\"Algorithm\", \"ProofType\"])\n",
    "print(X.shape)\n",
    "X.head()"
   ]
  },
  {
   "cell_type": "code",
   "execution_count": 175,
   "id": "b3931867",
   "metadata": {},
   "outputs": [
    {
     "data": {
      "text/plain": [
       "array([[ 7.41983037e+00, -1.89635813e-01],\n",
       "       [-6.00308875e-01, -2.57658821e-03],\n",
       "       [ 5.54124929e+00, -5.43431773e-01],\n",
       "       ...,\n",
       "       [ 2.27329777e+00, -1.11492859e-01],\n",
       "       [-6.00308875e-01, -2.57658821e-03],\n",
       "       [-6.00308875e-01, -2.57658821e-03]])"
      ]
     },
     "execution_count": 175,
     "metadata": {},
     "output_type": "execute_result"
    }
   ],
   "source": [
    "scaler = StandardScaler()\n",
    "data2 = scaler.fit_transform(X)\n",
    "data2[0:5]\n",
    "\n",
    "from sklearn.decomposition import PCA\n",
    "\n",
    "pca = PCA(n_components=2)\n",
    "data_pca = pca.fit_transform(data2)\n",
    "data_pca"
   ]
  },
  {
   "cell_type": "code",
   "execution_count": 176,
   "id": "a544dbc2",
   "metadata": {
    "scrolled": true
   },
   "outputs": [
    {
     "data": {
      "text/html": [
       "<div>\n",
       "<style scoped>\n",
       "    .dataframe tbody tr th:only-of-type {\n",
       "        vertical-align: middle;\n",
       "    }\n",
       "\n",
       "    .dataframe tbody tr th {\n",
       "        vertical-align: top;\n",
       "    }\n",
       "\n",
       "    .dataframe thead th {\n",
       "        text-align: right;\n",
       "    }\n",
       "</style>\n",
       "<table border=\"1\" class=\"dataframe\">\n",
       "  <thead>\n",
       "    <tr style=\"text-align: right;\">\n",
       "      <th></th>\n",
       "      <th>PC 1</th>\n",
       "      <th>PC 2</th>\n",
       "    </tr>\n",
       "  </thead>\n",
       "  <tbody>\n",
       "    <tr>\n",
       "      <th>42</th>\n",
       "      <td>7.419830</td>\n",
       "      <td>-0.189636</td>\n",
       "    </tr>\n",
       "    <tr>\n",
       "      <th>300</th>\n",
       "      <td>-0.600309</td>\n",
       "      <td>-0.002577</td>\n",
       "    </tr>\n",
       "    <tr>\n",
       "      <th>NSR</th>\n",
       "      <td>5.541249</td>\n",
       "      <td>-0.543432</td>\n",
       "    </tr>\n",
       "    <tr>\n",
       "      <th>TRI</th>\n",
       "      <td>7.107402</td>\n",
       "      <td>0.075401</td>\n",
       "    </tr>\n",
       "    <tr>\n",
       "      <th>CMTC</th>\n",
       "      <td>7.157300</td>\n",
       "      <td>-0.552685</td>\n",
       "    </tr>\n",
       "  </tbody>\n",
       "</table>\n",
       "</div>"
      ],
      "text/plain": [
       "          PC 1      PC 2\n",
       "42    7.419830 -0.189636\n",
       "300  -0.600309 -0.002577\n",
       "NSR   5.541249 -0.543432\n",
       "TRI   7.107402  0.075401\n",
       "CMTC  7.157300 -0.552685"
      ]
     },
     "execution_count": 176,
     "metadata": {},
     "output_type": "execute_result"
    }
   ],
   "source": [
    "pc = pd.DataFrame(data_pca, columns=[\"PC 1\", \"PC 2\"], index=names.index)\n",
    "pc.head()"
   ]
  },
  {
   "cell_type": "code",
   "execution_count": 177,
   "id": "5339393d",
   "metadata": {},
   "outputs": [
    {
     "name": "stdout",
     "output_type": "stream",
     "text": [
      "[14282.31887564675, 7271.6787274416365, 2243.026710675946, 868.274343348667, 234.07703262680656, 134.04087522966728, 72.65353770562723, 53.80886158833246, 40.43213879272832, 33.98621048892515]\n"
     ]
    },
    {
     "data": {
      "image/png": "[encoded data removed]",
      "text/plain": [
       "<Figure size 432x288 with 1 Axes>"
      ]
     },
     "metadata": {
      "needs_background": "light"
     },
     "output_type": "display_data"
    }
   ],
   "source": [
    "from sklearn.cluster import KMeans\n",
    "import matplotlib.pyplot as plt\n",
    "\n",
    "inertia = []\n",
    "# surely there will need to be less than 11 clusters\n",
    "k = list(range(1,11))\n",
    "for i in k:\n",
    "    km = KMeans(n_clusters=i, random_state=0)\n",
    "    km.fit(pc)\n",
    "    inertia.append(km.inertia_)\n",
    "    \n",
    "print(inertia)\n",
    "plt.plot(k, inertia)\n",
    "plt.title('Elbow curve')\n",
    "\n",
    "plt.show()"
   ]
  },
  {
   "cell_type": "markdown",
   "id": "4776cb38",
   "metadata": {},
   "source": [
    "From the elbow curve, tt appears that 3 clusters is optimal."
   ]
  },
  {
   "cell_type": "code",
   "execution_count": 179,
   "id": "ac08b466",
   "metadata": {
    "scrolled": true
   },
   "outputs": [
    {
     "ename": "ValueError",
     "evalue": "Length of values (2857) does not match length of index (2854)",
     "output_type": "error",
     "traceback": [
      "\u001b[0;31m---------------------------------------------------------------------------\u001b[0m",
      "\u001b[0;31mValueError\u001b[0m                                Traceback (most recent call last)",
      "Input \u001b[0;32mIn [179]\u001b[0m, in \u001b[0;36m<cell line: 7>\u001b[0;34m()\u001b[0m\n\u001b[1;32m      5\u001b[0m clustered_df \u001b[38;5;241m=\u001b[39m pd\u001b[38;5;241m.\u001b[39mconcat([df2, pcs_df], axis\u001b[38;5;241m=\u001b[39m\u001b[38;5;241m1\u001b[39m, join\u001b[38;5;241m=\u001b[39m\u001b[38;5;124m'\u001b[39m\u001b[38;5;124minner\u001b[39m\u001b[38;5;124m'\u001b[39m)\n\u001b[1;32m      6\u001b[0m clustered_df[\u001b[38;5;124m\"\u001b[39m\u001b[38;5;124mCoinName\u001b[39m\u001b[38;5;124m\"\u001b[39m] \u001b[38;5;241m=\u001b[39m names\u001b[38;5;241m.\u001b[39mCoinName\n\u001b[0;32m----> 7\u001b[0m clustered_df[\u001b[38;5;124m\"\u001b[39m\u001b[38;5;124mClass\u001b[39m\u001b[38;5;124m\"\u001b[39m] \u001b[38;5;241m=\u001b[39m km_model\u001b[38;5;241m.\u001b[39mlabels_\n\u001b[1;32m      8\u001b[0m \u001b[38;5;28mprint\u001b[39m(clustered_df\u001b[38;5;241m.\u001b[39mshape)\n\u001b[1;32m      9\u001b[0m clustered_df\u001b[38;5;241m.\u001b[39mhead(\u001b[38;5;241m10\u001b[39m)\n",
      "File \u001b[0;32m/usr/lib/python3.10/site-packages/pandas/core/frame.py:3655\u001b[0m, in \u001b[0;36mDataFrame.__setitem__\u001b[0;34m(self, key, value)\u001b[0m\n\u001b[1;32m   3652\u001b[0m     \u001b[38;5;28mself\u001b[39m\u001b[38;5;241m.\u001b[39m_setitem_array([key], value)\n\u001b[1;32m   3653\u001b[0m \u001b[38;5;28;01melse\u001b[39;00m:\n\u001b[1;32m   3654\u001b[0m     \u001b[38;5;66;03m# set column\u001b[39;00m\n\u001b[0;32m-> 3655\u001b[0m     \u001b[38;5;28;43mself\u001b[39;49m\u001b[38;5;241;43m.\u001b[39;49m\u001b[43m_set_item\u001b[49m\u001b[43m(\u001b[49m\u001b[43mkey\u001b[49m\u001b[43m,\u001b[49m\u001b[43m \u001b[49m\u001b[43mvalue\u001b[49m\u001b[43m)\u001b[49m\n",
      "File \u001b[0;32m/usr/lib/python3.10/site-packages/pandas/core/frame.py:3832\u001b[0m, in \u001b[0;36mDataFrame._set_item\u001b[0;34m(self, key, value)\u001b[0m\n\u001b[1;32m   3822\u001b[0m \u001b[38;5;28;01mdef\u001b[39;00m \u001b[38;5;21m_set_item\u001b[39m(\u001b[38;5;28mself\u001b[39m, key, value) \u001b[38;5;241m-\u001b[39m\u001b[38;5;241m>\u001b[39m \u001b[38;5;28;01mNone\u001b[39;00m:\n\u001b[1;32m   3823\u001b[0m     \u001b[38;5;124;03m\"\"\"\u001b[39;00m\n\u001b[1;32m   3824\u001b[0m \u001b[38;5;124;03m    Add series to DataFrame in specified column.\u001b[39;00m\n\u001b[1;32m   3825\u001b[0m \n\u001b[0;32m   (...)\u001b[0m\n\u001b[1;32m   3830\u001b[0m \u001b[38;5;124;03m    ensure homogeneity.\u001b[39;00m\n\u001b[1;32m   3831\u001b[0m \u001b[38;5;124;03m    \"\"\"\u001b[39;00m\n\u001b[0;32m-> 3832\u001b[0m     value \u001b[38;5;241m=\u001b[39m \u001b[38;5;28;43mself\u001b[39;49m\u001b[38;5;241;43m.\u001b[39;49m\u001b[43m_sanitize_column\u001b[49m\u001b[43m(\u001b[49m\u001b[43mvalue\u001b[49m\u001b[43m)\u001b[49m\n\u001b[1;32m   3834\u001b[0m     \u001b[38;5;28;01mif\u001b[39;00m (\n\u001b[1;32m   3835\u001b[0m         key \u001b[38;5;129;01min\u001b[39;00m \u001b[38;5;28mself\u001b[39m\u001b[38;5;241m.\u001b[39mcolumns\n\u001b[1;32m   3836\u001b[0m         \u001b[38;5;129;01mand\u001b[39;00m value\u001b[38;5;241m.\u001b[39mndim \u001b[38;5;241m==\u001b[39m \u001b[38;5;241m1\u001b[39m\n\u001b[1;32m   3837\u001b[0m         \u001b[38;5;129;01mand\u001b[39;00m \u001b[38;5;129;01mnot\u001b[39;00m is_extension_array_dtype(value)\n\u001b[1;32m   3838\u001b[0m     ):\n\u001b[1;32m   3839\u001b[0m         \u001b[38;5;66;03m# broadcast across multiple columns if necessary\u001b[39;00m\n\u001b[1;32m   3840\u001b[0m         \u001b[38;5;28;01mif\u001b[39;00m \u001b[38;5;129;01mnot\u001b[39;00m \u001b[38;5;28mself\u001b[39m\u001b[38;5;241m.\u001b[39mcolumns\u001b[38;5;241m.\u001b[39mis_unique \u001b[38;5;129;01mor\u001b[39;00m \u001b[38;5;28misinstance\u001b[39m(\u001b[38;5;28mself\u001b[39m\u001b[38;5;241m.\u001b[39mcolumns, MultiIndex):\n",
      "File \u001b[0;32m/usr/lib/python3.10/site-packages/pandas/core/frame.py:4535\u001b[0m, in \u001b[0;36mDataFrame._sanitize_column\u001b[0;34m(self, value)\u001b[0m\n\u001b[1;32m   4532\u001b[0m     \u001b[38;5;28;01mreturn\u001b[39;00m _reindex_for_setitem(value, \u001b[38;5;28mself\u001b[39m\u001b[38;5;241m.\u001b[39mindex)\n\u001b[1;32m   4534\u001b[0m \u001b[38;5;28;01mif\u001b[39;00m is_list_like(value):\n\u001b[0;32m-> 4535\u001b[0m     \u001b[43mcom\u001b[49m\u001b[38;5;241;43m.\u001b[39;49m\u001b[43mrequire_length_match\u001b[49m\u001b[43m(\u001b[49m\u001b[43mvalue\u001b[49m\u001b[43m,\u001b[49m\u001b[43m \u001b[49m\u001b[38;5;28;43mself\u001b[39;49m\u001b[38;5;241;43m.\u001b[39;49m\u001b[43mindex\u001b[49m\u001b[43m)\u001b[49m\n\u001b[1;32m   4536\u001b[0m \u001b[38;5;28;01mreturn\u001b[39;00m sanitize_array(value, \u001b[38;5;28mself\u001b[39m\u001b[38;5;241m.\u001b[39mindex, copy\u001b[38;5;241m=\u001b[39m\u001b[38;5;28;01mTrue\u001b[39;00m, allow_2d\u001b[38;5;241m=\u001b[39m\u001b[38;5;28;01mTrue\u001b[39;00m)\n",
      "File \u001b[0;32m/usr/lib/python3.10/site-packages/pandas/core/common.py:557\u001b[0m, in \u001b[0;36mrequire_length_match\u001b[0;34m(data, index)\u001b[0m\n\u001b[1;32m    553\u001b[0m \u001b[38;5;124;03m\"\"\"\u001b[39;00m\n\u001b[1;32m    554\u001b[0m \u001b[38;5;124;03mCheck the length of data matches the length of the index.\u001b[39;00m\n\u001b[1;32m    555\u001b[0m \u001b[38;5;124;03m\"\"\"\u001b[39;00m\n\u001b[1;32m    556\u001b[0m \u001b[38;5;28;01mif\u001b[39;00m \u001b[38;5;28mlen\u001b[39m(data) \u001b[38;5;241m!=\u001b[39m \u001b[38;5;28mlen\u001b[39m(index):\n\u001b[0;32m--> 557\u001b[0m     \u001b[38;5;28;01mraise\u001b[39;00m \u001b[38;5;167;01mValueError\u001b[39;00m(\n\u001b[1;32m    558\u001b[0m         \u001b[38;5;124m\"\u001b[39m\u001b[38;5;124mLength of values \u001b[39m\u001b[38;5;124m\"\u001b[39m\n\u001b[1;32m    559\u001b[0m         \u001b[38;5;124mf\u001b[39m\u001b[38;5;124m\"\u001b[39m\u001b[38;5;124m(\u001b[39m\u001b[38;5;132;01m{\u001b[39;00m\u001b[38;5;28mlen\u001b[39m(data)\u001b[38;5;132;01m}\u001b[39;00m\u001b[38;5;124m) \u001b[39m\u001b[38;5;124m\"\u001b[39m\n\u001b[1;32m    560\u001b[0m         \u001b[38;5;124m\"\u001b[39m\u001b[38;5;124mdoes not match length of index \u001b[39m\u001b[38;5;124m\"\u001b[39m\n\u001b[1;32m    561\u001b[0m         \u001b[38;5;124mf\u001b[39m\u001b[38;5;124m\"\u001b[39m\u001b[38;5;124m(\u001b[39m\u001b[38;5;132;01m{\u001b[39;00m\u001b[38;5;28mlen\u001b[39m(index)\u001b[38;5;132;01m}\u001b[39;00m\u001b[38;5;124m)\u001b[39m\u001b[38;5;124m\"\u001b[39m\n\u001b[1;32m    562\u001b[0m     )\n",
      "\u001b[0;31mValueError\u001b[0m: Length of values (2857) does not match length of index (2854)"
     ]
    }
   ],
   "source": [
    "km_model = KMeans(n_clusters=3, random_state=0)\n",
    "km_model.fit(pcs_df)\n",
    "predictions = km_model.predict(pcs_df)\n",
    "predictions\n",
    "clustered_df = pd.concat([df2, pcs_df], axis=1, join='inner')\n",
    "clustered_df[\"CoinName\"] = names.CoinName\n",
    "clustered_df[\"Class\"] = km_model.labels_\n",
    "print(clustered_df.shape)\n",
    "clustered_df.head(10)\n"
   ]
  },
  {
   "cell_type": "code",
   "execution_count": 180,
   "id": "cea5b9ed",
   "metadata": {},
   "outputs": [
    {
     "ename": "KeyError",
     "evalue": "'Class'",
     "output_type": "error",
     "traceback": [
      "\u001b[0;31m---------------------------------------------------------------------------\u001b[0m",
      "\u001b[0;31mKeyError\u001b[0m                                  Traceback (most recent call last)",
      "File \u001b[0;32m/usr/lib/python3.10/site-packages/pandas/core/indexes/base.py:3621\u001b[0m, in \u001b[0;36mIndex.get_loc\u001b[0;34m(self, key, method, tolerance)\u001b[0m\n\u001b[1;32m   3620\u001b[0m \u001b[38;5;28;01mtry\u001b[39;00m:\n\u001b[0;32m-> 3621\u001b[0m     \u001b[38;5;28;01mreturn\u001b[39;00m \u001b[38;5;28;43mself\u001b[39;49m\u001b[38;5;241;43m.\u001b[39;49m\u001b[43m_engine\u001b[49m\u001b[38;5;241;43m.\u001b[39;49m\u001b[43mget_loc\u001b[49m\u001b[43m(\u001b[49m\u001b[43mcasted_key\u001b[49m\u001b[43m)\u001b[49m\n\u001b[1;32m   3622\u001b[0m \u001b[38;5;28;01mexcept\u001b[39;00m \u001b[38;5;167;01mKeyError\u001b[39;00m \u001b[38;5;28;01mas\u001b[39;00m err:\n",
      "File \u001b[0;32m/usr/lib/python3.10/site-packages/pandas/_libs/index.pyx:136\u001b[0m, in \u001b[0;36mpandas._libs.index.IndexEngine.get_loc\u001b[0;34m()\u001b[0m\n",
      "File \u001b[0;32m/usr/lib/python3.10/site-packages/pandas/_libs/index.pyx:163\u001b[0m, in \u001b[0;36mpandas._libs.index.IndexEngine.get_loc\u001b[0;34m()\u001b[0m\n",
      "File \u001b[0;32mpandas/_libs/hashtable_class_helper.pxi:5198\u001b[0m, in \u001b[0;36mpandas._libs.hashtable.PyObjectHashTable.get_item\u001b[0;34m()\u001b[0m\n",
      "File \u001b[0;32mpandas/_libs/hashtable_class_helper.pxi:5206\u001b[0m, in \u001b[0;36mpandas._libs.hashtable.PyObjectHashTable.get_item\u001b[0;34m()\u001b[0m\n",
      "\u001b[0;31mKeyError\u001b[0m: 'Class'",
      "\nThe above exception was the direct cause of the following exception:\n",
      "\u001b[0;31mKeyError\u001b[0m                                  Traceback (most recent call last)",
      "Input \u001b[0;32mIn [180]\u001b[0m, in \u001b[0;36m<cell line: 1>\u001b[0;34m()\u001b[0m\n\u001b[0;32m----> 1\u001b[0m filtered_c0 \u001b[38;5;241m=\u001b[39m clustered_df[\u001b[43mclustered_df\u001b[49m\u001b[43m[\u001b[49m\u001b[38;5;124;43m'\u001b[39;49m\u001b[38;5;124;43mClass\u001b[39;49m\u001b[38;5;124;43m'\u001b[39;49m\u001b[43m]\u001b[49m \u001b[38;5;241m==\u001b[39m \u001b[38;5;241m0\u001b[39m] \n\u001b[1;32m      2\u001b[0m filtered_c1 \u001b[38;5;241m=\u001b[39m clustered_df[clustered_df[\u001b[38;5;124m'\u001b[39m\u001b[38;5;124mClass\u001b[39m\u001b[38;5;124m'\u001b[39m] \u001b[38;5;241m==\u001b[39m \u001b[38;5;241m1\u001b[39m] \n\u001b[1;32m      3\u001b[0m filtered_c2 \u001b[38;5;241m=\u001b[39m clustered_df[clustered_df[\u001b[38;5;124m'\u001b[39m\u001b[38;5;124mClass\u001b[39m\u001b[38;5;124m'\u001b[39m] \u001b[38;5;241m==\u001b[39m \u001b[38;5;241m2\u001b[39m] \n",
      "File \u001b[0;32m/usr/lib/python3.10/site-packages/pandas/core/frame.py:3505\u001b[0m, in \u001b[0;36mDataFrame.__getitem__\u001b[0;34m(self, key)\u001b[0m\n\u001b[1;32m   3503\u001b[0m \u001b[38;5;28;01mif\u001b[39;00m \u001b[38;5;28mself\u001b[39m\u001b[38;5;241m.\u001b[39mcolumns\u001b[38;5;241m.\u001b[39mnlevels \u001b[38;5;241m>\u001b[39m \u001b[38;5;241m1\u001b[39m:\n\u001b[1;32m   3504\u001b[0m     \u001b[38;5;28;01mreturn\u001b[39;00m \u001b[38;5;28mself\u001b[39m\u001b[38;5;241m.\u001b[39m_getitem_multilevel(key)\n\u001b[0;32m-> 3505\u001b[0m indexer \u001b[38;5;241m=\u001b[39m \u001b[38;5;28;43mself\u001b[39;49m\u001b[38;5;241;43m.\u001b[39;49m\u001b[43mcolumns\u001b[49m\u001b[38;5;241;43m.\u001b[39;49m\u001b[43mget_loc\u001b[49m\u001b[43m(\u001b[49m\u001b[43mkey\u001b[49m\u001b[43m)\u001b[49m\n\u001b[1;32m   3506\u001b[0m \u001b[38;5;28;01mif\u001b[39;00m is_integer(indexer):\n\u001b[1;32m   3507\u001b[0m     indexer \u001b[38;5;241m=\u001b[39m [indexer]\n",
      "File \u001b[0;32m/usr/lib/python3.10/site-packages/pandas/core/indexes/base.py:3623\u001b[0m, in \u001b[0;36mIndex.get_loc\u001b[0;34m(self, key, method, tolerance)\u001b[0m\n\u001b[1;32m   3621\u001b[0m     \u001b[38;5;28;01mreturn\u001b[39;00m \u001b[38;5;28mself\u001b[39m\u001b[38;5;241m.\u001b[39m_engine\u001b[38;5;241m.\u001b[39mget_loc(casted_key)\n\u001b[1;32m   3622\u001b[0m \u001b[38;5;28;01mexcept\u001b[39;00m \u001b[38;5;167;01mKeyError\u001b[39;00m \u001b[38;5;28;01mas\u001b[39;00m err:\n\u001b[0;32m-> 3623\u001b[0m     \u001b[38;5;28;01mraise\u001b[39;00m \u001b[38;5;167;01mKeyError\u001b[39;00m(key) \u001b[38;5;28;01mfrom\u001b[39;00m \u001b[38;5;21;01merr\u001b[39;00m\n\u001b[1;32m   3624\u001b[0m \u001b[38;5;28;01mexcept\u001b[39;00m \u001b[38;5;167;01mTypeError\u001b[39;00m:\n\u001b[1;32m   3625\u001b[0m     \u001b[38;5;66;03m# If we have a listlike key, _check_indexing_error will raise\u001b[39;00m\n\u001b[1;32m   3626\u001b[0m     \u001b[38;5;66;03m#  InvalidIndexError. Otherwise we fall through and re-raise\u001b[39;00m\n\u001b[1;32m   3627\u001b[0m     \u001b[38;5;66;03m#  the TypeError.\u001b[39;00m\n\u001b[1;32m   3628\u001b[0m     \u001b[38;5;28mself\u001b[39m\u001b[38;5;241m.\u001b[39m_check_indexing_error(key)\n",
      "\u001b[0;31mKeyError\u001b[0m: 'Class'"
     ]
    }
   ],
   "source": [
    "filtered_c0 = clustered_df[clustered_df['Class'] == 0] \n",
    "filtered_c1 = clustered_df[clustered_df['Class'] == 1] \n",
    "filtered_c2 = clustered_df[clustered_df['Class'] == 2] \n",
    "\n",
    "print(\"Amount of currencies in class 0 (best): \" + str(len(filtered_c0)))\n",
    "print(\"Amount of currencies in class 1 (average): \" + str(len(filtered_c1)))\n",
    "print(\"Amount of currencies in class 2 (worst): \"+ str(len(filtered_c2)))"
   ]
  },
  {
   "cell_type": "markdown",
   "id": "7e0194d7",
   "metadata": {},
   "source": [
    "## Currencies in class 0"
   ]
  },
  {
   "cell_type": "code",
   "execution_count": 181,
   "id": "c0f392eb",
   "metadata": {
    "scrolled": true
   },
   "outputs": [
    {
     "name": "stdout",
     "output_type": "stream",
     "text": [
      "['300', 'BITCNY', 'NXC', 'WGR', 'LA', 'CVCOIN', 'MOBI', 'ARNX', 'SOMA', 'CLD', 'MGO', 'MDCL', 'PROPS', 'PAN', '0XBTC', 'VITE', 'GTK', 'WPP', 'ENQ', 'EURS', 'NHCT', 'CSP', 'USDC', 'VEX', 'MYO', 'WOM', 'SILKT', 'ZUC', 'HRD', 'LEVL', 'EVED', '2KEY', 'KICKS', 'IOWN', 'BRYLL', 'NNB', 'GMAT', 'FOIN', 'LXT', 'BHP', 'XCHF', 'PNK', 'THEX', 'UAT', 'VINCI', 'XSR', 'NYE', 'EMRX', 'PLAC', 'LTBTC', 'UNICORN', 'SUTER', 'DAD', 'SNL', 'XFC', 'BRZ', 'ECP', 'CNTM', 'QTCON', 'BOA', 'NVL', 'XTP', 'BNP', 'APM', 'ALY', 'JOB', 'GIX', 'BEP', 'AIDUS', 'NWC', 'EOSBULL', 'XRPBEAR', 'BNBBULL', 'TRXBULL', 'TRXBEAR', 'LTCBULL', 'LTCBEAR', 'HBD', 'ELAMA', 'ANCT', 'USDJ', 'UPEUR', 'LCX', 'COSP', 'HUNT', 'ALTBEAR', 'DEP', 'HMR', 'LMCH', 'BSVBULL', 'BSVBEAR', 'BCHBULL', 'BCHBEAR', 'STAKE', 'IBVOL', 'XTZBULL', 'XTZBEAR', 'LOON', 'FORESTPLUS', 'XPR', 'UTI', 'ASM', 'KDAG', 'RAD.CUR', 'ADABEAR', 'ADABULL', 'ATOMBULL', 'ATOMBEAR', 'ALGOBULL', 'ALGOBEAR', 'TOMOBULL', 'MIDBEAR', 'BTMXBULL', 'PMGT', 'PAZZI', 'ISP', 'WEST', 'OKS', 'NEST', 'PRQ', '4ART', 'CAPT', 'HAKKA', 'STOP', 'VIDYA', 'PEARL', 'INXP', 'MATH', 'HGET', 'ACH', 'SASHIMI', 'LGCY', 'PTF', 'ONIT', 'BWF', 'SFG', 'CORE', 'AXEL', 'YFIII', 'PLTC', 'SUSD', 'STPT', 'RSV', 'YO', 'APIX', 'RKN', 'RINGX', 'SNTVT', 'PICKLE', 'EOSBEAR', 'FAIRG', 'SPENDC', 'TRUMPLOSE', 'XPN', '8X8', 'TRUMPWIN', 'GOF', 'FLETA', 'META', 'FIN', 'LIEN', 'XDGB', 'KFC', 'SPA', 'FNX', 'MNR', 'MINDS', 'NEWS', 'CTI', 'OPENDAO', 'MAHA', '2BASED', 'UNN', 'ADP', 'RFCTR', 'YVS', 'NHBTC', 'MEDICO', 'DXF', 'XETH-G', 'TBB', 'DYP', 'REV', 'ESD', 'PYLON', 'FRAX', 'FXS', 'WIFI', 'ONS', 'AME', 'XED', 'PIS', 'DGCL', 'MCP', 'BAO', 'TSD', 'SAS', 'MSWAP', 'KOBE', 'DNS', 'LDO', 'WHITE', 'MIS', 'XDEF2', 'IBETH', 'BRI', 'CBK', 'EAURIC', 'HGOLD', 'UMX', 'DSTR', 'UNIDX', 'XLMBULL', 'XLMBEAR', 'PUSD', 'GERA', 'COMBO', 'YFTE', 'VRX', 'GLCH', 'ARIA20', 'ROYA', 'RIGEL', 'NDX', 'CSX', 'DDIM', 'ROUTE', 'YFO', 'USDFL', 'FL', 'NTB', 'INFI', 'NORD', 'GFARM2', 'ELX', 'PI', 'PHOON', 'CVR', 'UNDG', 'CC10', 'ARMOR', 'ARNXM', 'SNOW', 'BTNYX', 'FEY', 'HH', 'DOGY', 'TROP', 'NAWA', 'YPIE', 'LMY', 'BU', 'NAX', 'TKMN', 'U8D', 'FAMILY', 'HAI', 'UOP', 'APY', 'CARR', 'WNXM', 'CIVIT', 'WORLD', 'VALUE', '$TRDL', 'FUSE', 'GNY', 'BFLY', 'CURIO', 'MP3', 'INDEX', 'BT', 'TFT', 'MASQ', 'CTASK', 'RPT', 'DERI', 'KTT', 'OUR', 'RENDOGE', 'PICA', 'SST', 'RISEP', 'XFUND', 'METH', 'UNISTAKE', 'PREMIA', 'SGT', 'OLY', 'PRVS', 'DEXM', 'FYZNFT', 'PBASE', 'CLIQ', 'VSP', 'POD', 'TON', 'RAI', 'BITT', 'GUSD', 'QTF', 'STETH', 'STAKEDETH', 'LRN', 'ROT', 'AZUKI', '$ANRX', 'BUSD', 'RFOX', 'WHALE', 'REVV', 'DG', 'LAYER', 'SHROOM', 'DOKI', 'MONAV', 'POLK', 'ALOHA', 'BSP', 'XTK', 'EROWAN', 'OPCT', 'HOPR', 'PPBLZ', 'NDR', 'CHONK', 'WAIF', 'BONK', 'MATTER', 'DWZ', 'URUS', 'VKNF', 'FONT', 'DOWS', 'DEGOV', 'PGT', 'NESTREE', 'SLICE', 'BINTEX', 'BALPHA', 'EHASH', 'DEOR', 'AVAL', 'PAID', 'YFDAI', 'AAPX', 'REHAB', 'CHOW', 'DOLA', 'YIELD', 'IFUND', 'VSD', 'CGG', 'PCNT', 'CELEB', 'KINE', 'TANGO', 'BCP', 'XNS', 'EDDA', 'SCAT', 'L3P', 'ELAND', 'DAFI', 'BCUG', 'DKA', 'PAINT', 'GST', 'SOCKS', 'GSWAP', 'NFTXHI', 'NFY', 'XNO', 'POLC', 'GUM', 'LOOT', 'STR', 'DORA', 'TARA', 'OVR', 'ATD', 'FMG', 'TOWER', 'SOTA', 'WOWS', 'XMON', 'MUTE', 'ETHV', 'ZUT', 'ZXC', 'ARTF', 'CHADS', 'SYNC', 'BIDI', 'BDP', 'DELTA', 'LAS', 'SFUND', 'INV', 'DRT', 'SIGN', '$ROPE', 'GFX', 'SAFEBTC', 'TIDAL', 'KPAD', 'AWX', 'AWS', 'MORA', 'MRCH', 'MARSH', 'UDT', 'MFI', 'MARK', 'DYT', 'ALPACA', 'SI', 'HYPE', 'KCAL', 'ARTH', 'KOIN', 'GOVI', 'POLA', 'ID', 'B20', 'AIOZ', 'SHOPX', 'PMON', 'MTHD', 'COVIR', 'MCO2', 'WQT', 'LQTY', 'LUSD', 'KONO', 'TOPN', 'STRK', 'BDPI', 'CARDS', 'TOTM', 'CARRY', 'AHT', 'MARO', 'RFUEL', 'EUM', 'GMEE', 'RBC', 'AUDIO', 'MLK', 'DEFIT', 'MBOX', 'GHX', 'BAAS', 'INNBC', 'TOS', 'XOR', 'MTLX', 'BAG', 'RGT', 'REVO', 'SOBA', 'EQZ', 'SEPA', 'K21', 'LF', 'BLES', 'FMT', 'DEXTF', 'BYN', 'RVP', 'GAINS', 'MVI', 'WOMI', 'MOFI', 'SATA', 'PYR', 'WXTZ', 'ARTEON', 'SHD', 'KYTE', 'GS', 'RVF', 'ZIG', 'ZCX', 'TRU', 'AXN', 'DDOS', 'KXUSD', 'MUNCH', 'ICE', 'WANATHA', 'PDEX', 'NAME', 'CAT', 'FST', 'LEASH', 'DOGIRA', 'DXH', 'BDOG', 'CHS', 'APN', 'SYL', 'XFIT', 'SBGO', 'GOL', 'KEL', 'DAIN', 'BFIC', 'DHV', 'DXD', 'UMBR', 'LABRA', 'SAITO', 'SDX', 'GAZE', 'HEZ', 'STN', 'TOKEN', 'LLAND', 'HORD', 'LEMD', 'HOKK', 'MOMA', 'MUSK', 'FINE', 'BSCS', 'C3', 'COPS', 'SMTY', 'CRWNY', 'FEI', 'GRUMPY', 'PENDLE', 'TOZ', 'BBANK', 'ALPHR', 'MOAR', 'SHO', 'CFXQ', 'STACK', 'SHEESHA', 'ARA', 'STND', 'DSCVR', 'POP!', 'NAOS', 'EPK', 'RNB', 'LOCG', 'ALEPH', 'PUSSY', 'ARES', 'YVBOOST', 'COSHI', 'FLX', 'INSUR', 'PEKC', 'EMB', 'PLE', 'COMFI', 'BANK', 'COMB', 'LABS', 'ZEP', 'UBI', 'TRR', 'LOWB', 'DFND', 'SHIH', 'POLX', 'KAT', 'GYEN', 'BIFIF', 'CUBE', 'TCAP', 'COCK', 'MTC', 'HBT', 'DFYN', 'JINDOGE', 'CANYA', 'RAIF', 'ARGO', 'WOOFY', 'WAR', 'KKO', 'OIL', 'ETH2X-FLI', 'PNODE', 'KLEE', 'HNZO', 'CLS', 'MALLY', 'FOGE', 'ELONGD', 'UTT', 'WIS', 'GERO', 'CTX', 'XKI', 'CVX', 'EMON', 'RUSH', 'BIST', 'LOCC', 'BEZOGE', 'BAKE', 'SOLO', 'CHIHUA', 'CLU', 'YFX', 'IMPULSE', 'ALU', 'GAS', 'ZOOT', 'TKINU', 'OCTO', 'KEI', 'MOOV', 'HOTCROSS', 'KUB', 'NMT', 'FEAR', 'QQQ', 'USDN', 'PNL', 'ZCOR', 'USDAP', 'UPCO2', 'KAWA', 'BON', 'OUSD', 'PNGN', 'XCAD', 'SPELL', 'ELONONE', 'DEK', 'IONX', 'HINA', 'CAPS', 'JEJUDOGE', 'CHEX', 'ZUSD', 'MUSD', 'LAT', 'DUCK', 'MER', 'XAI', 'VEED', 'LOL', 'SMT', 'N1', 'LESS', 'LSS', 'NIIFI', 'KDOGE', 'UFT', 'TINKU', 'CAVA', 'TOKO', 'SAFEHAMSTERS', 'SCOIN', 'MOZ', 'BKING', 'CXO', 'TAAS', 'WOOP', 'BCDT', 'IOI', 'AI', 'KGO', 'SWISE', 'BUGG', 'GNBT', 'ANV', 'PDOG', 'VBSC', 'GDT', 'OGSP', 'CRDTS', 'EQO', 'AAB', 'XAUT', 'PLF', 'TRYB', 'FYZ', 'CNB', 'FUNX', 'UPT', 'MINI', 'TSHP', 'USDS', 'CHX', 'FNB', 'PLAI', 'FORM', 'HYC', 'VELO', 'FIS', 'INFT', 'ARX', 'KYL', 'CWS', 'PLANETS', 'NABOX', 'OMT', 'COOP', 'METAC', 'PENTA', 'AAT', 'KTON', 'CONUN', 'INST', 'PEA', 'DPX', 'GET', 'VALOR', 'ZYN', 'RDPX', 'SFUEL', 'EVZ', 'MVC', 'GENS', 'MEM', 'AIDI', 'NBNG', 'FOREVERUP', 'ARTG', '2CRZ', 'RAD', 'SYLO', 'SMBSWAP', 'TRIBE', 'B21', 'BNS', 'TONE', 'F9', 'PDOGE', 'RAIL', 'PSWAP', 'DFC', 'MO', 'DVPN', 'HUB', 'AIM', 'MISHKA', 'DVP', 'DOOR', 'DRCT', 'NPLC', 'FESS', 'GREARN', 'CLT', 'MNST', 'IQQ', 'ACXT', 'SGE', 'KELPIE', 'DRE', 'FEVR', 'ZORT', 'YLDY', 'OFC', 'MOK', 'SHIBMERICAN', 'GREY', 'EFFT', 'WPE', 'QNX', 'MARX', 'LION', 'OCC', 'DAWGS', 'WCFG', 'ARW', 'JEFF', 'SHFL', 'ARTEX', 'CHY', 'BST', 'DEFLA', 'SBRT', 'TBCC', 'DIAMND', 'CVAG', 'XWIN', 'TENSHI', 'MCONTENT', 'TOKAU', 'CAVO', '1TRC', 'ZOE', 'WOLFY', 'XYZ', 'GODL', 'NVX', 'KIRBY', 'TAIYO', 'SHON', 'INVESTEL', 'CFLO', 'STAK', 'LIVE', 'ANB', 'BSCGIRL', 'JPYC', 'GSHIBA', 'IPAD', 'BURP', 'LCMS', 'LMAO', 'ALITA', 'DAF', 'UFI', 'DADDYDOGE', 'LYXE', 'F7', 'YGG', 'ADEL', 'MAP', '$KIRBYRELOADED', 'DBZ', 'BANKETH', 'UCT', 'SHIB', 'XDC', 'SLP', 'BORING', 'DERC', 'VAB', 'SAFEMOON', 'TLM', 'PVU', 'ZJLT', 'OMI', 'ALICE', 'EFI', 'HEX', 'BSATOSHI', 'SENSO', 'HNT', 'CAKE', 'LITH', 'CHZ', 'XSUSHI', 'CVXCRV', 'MIM', 'FLOAT', 'MANA', 'XCH', 'C98', 'CTK', 'TVK', 'TOKE', 'LPK', 'SAITAMA', 'ELON', 'ENERGYX', 'DODO', 'TFUEL', 'DFA', 'PIPT', 'WASABI', 'ICHI', 'RULER', '$MAID', 'IDLE', 'KISHU', 'RBIS', 'BASK', 'NFT', 'THETA', 'BPT', 'ZCON', 'BABYSAITAMA', 'TOMO', 'KEEP', 'ETHPAD', 'TWT', 'LANC', 'DFI', 'EQX', 'MCF', 'OXT', 'SUNC', 'KDA', 'CTSI', 'A5T', 'CIV', 'NMX', 'CLV', 'CYCLUB', 'UMI', 'DEGO', 'AWO', 'CBANK', 'FDO', 'TKO', 'SUM', 'BOOST', 'DID', 'SPI', 'FEG', 'PPN', 'LPT', 'KAVA', 'SKT', 'BADGER', 'LTRBT', 'RYOSHI', 'ALPA', 'HI', 'WNCG', 'ASG', 'WLUNA', 'CW', 'AGPC', 'CATT', 'DNXC', 'CIRUS', 'TXA', 'DBUY', 'XRD', 'MGAMES', 'RELAY', 'TSA', 'OGO', 'KP3R', 'CITY', 'WICC', 'PNG', 'PSLIP', 'MINTYS', 'FRTS', 'TXL', 'KUMA', 'DPET', 'BP', 'STOS', 'RBUNNY', 'FB', 'PLAY', 'FLOW', 'WRX', 'LDFI', 'ALUSD', 'MOVR', 'JASMY', 'XVS', 'BAL', 'LIT', 'EDEN', 'RAMP', 'BTCST', 'SDN', 'AKITA', 'ALPHA', 'MIR', 'DDX', 'SAFESTAR', 'BGLD', 'TALK', 'XIN', 'BARK', 'FLURRY', 'PETN', 'LSP', 'POOL', 'VIDYX', 'HERO', 'SHARE', 'PIG', 'ONC', 'MDT', 'ICP', 'TORG', 'DYDX', 'BTRST', 'XEP', 'ATTR', 'YAXIS', 'PBX', 'XNL', 'MONI', 'ETL', 'STF', 'DOGGY', 'XIASI', 'KEANU', 'THG', 'NAFT', 'SKILL', 'ZOON', 'HOD', 'SMG', 'WSG', 'MPL', 'HNST', 'PWAR', 'TSX', 'RACA', 'KCCPAD', 'TPAD', 'SISHI', 'FEED', 'PET', 'COOK', 'SAI', 'PACOCA', 'HUNNY', 'RABBIT', 'ALLEY', 'TENFI', 'HEROES', 'UNCL', 'WHEEL', 'SHIBACASH', 'LONG', 'EGGP', 'EIFI', 'TENDIE', 'COSMIC', 'VENTION', 'BETU', 'IBG', 'WENLAMBO', 'SHEESH', 'RELI', 'PETG', 'CHECOIN', 'ECO', 'NSFW', 'ECOFI', 'GEMG', 'KLO', 'FOREVERFOMO', 'MRF', 'RVST', 'XBN', 'POODL', 'KWS', 'KRN', 'BBADGER', 'KOL', 'DIVER', 'PFY', 'CHOPPER', 'DOGEX', 'UZUMAKI', 'FATCAKE', 'PIT', 'WHEAT', 'BHO', 'JED', 'SPHYNX', 'BKR', 'ZMBE', 'LPI', 'RAINBOW', 'YDR', 'STEPH', 'CELT', 'SRP', 'ENTR', 'OPUL', 'TRGI', 'ODDZ', 'PKD', 'PRV', 'BMARS', 'BUMN', 'BPAY', 'DMOD', 'LOUD', 'DXB', 'VRT', 'VTX', 'XIL', 'TOK', 'SALE', 'ARV', 'MOONSHOT', 'BNBCH', 'MILK', 'NU', 'DAG', 'GHST', 'POND', 'MDX', 'MOONLIGHT', 'ROOBEE', 'STMX', 'FOC', 'CQT', 'HTR', 'DAI', 'MOVE', 'KLV', 'ADAB', 'FORTH', 'BABY', 'HOGE', 'LEOS', 'CSPR', 'MOONARCH', 'BZZONE', 'BOND', 'MNG', 'BITCI', 'MASS', 'REEF', 'BNBBEAR', 'BETA', 'DXT', 'GENX', 'OWN', 'FLASH', 'AXC', 'PHA', 'XSGD', 'EFIL', 'CHE', 'ROSE', 'LINA', 'TCP', 'HDAC', 'SSGT', 'EBOX', 'EXRD', 'IOTX', 'XBY', 'SAFEMARS', 'ELLIP', 'HEGIC', 'ROSN', 'LEND', 'UNFI', 'LPOOL', 'MASK', 'ATA', 'ROOM', 'OST', 'SPS', 'TERN.ETH', 'WSCRT', 'WSIENNA', 'SPC', 'WELD', 'EMAX', 'MATICBULL', 'SMILE', 'FOREVERPUMP', 'VFOX', 'OCTAX', 'COLL', 'BUFF', 'BURNDOGE', 'CUMMIES', 'WANA', 'USDT', 'HARD', 'RLY', 'SCIX', 'PERL', 'SKL', 'MELLO', 'LUCKY', 'MND', 'PRINTS', 'EDGE', 'COCOS', 'AMO', 'OOE', 'ETHBULL', 'BULLC', 'ITGR', 'DATX', 'NFTX', 'SIL', 'XYM', 'BONUSCAKE', 'SPE', 'TFI', 'SCH', 'CPAN', 'ZABAKU', 'NAKA', 'GOTEM', 'SOV', 'MANGA', 'SLIM', 'MED', 'KISHIMOTO', 'PFT', 'FODL', 'EDGT', 'TORII', 'GOMA', 'GAFI', 'SBR', 'JOE', 'METIS', 'XWG', 'SHELL', 'REDI', 'POK', 'KALA', 'NFTART', 'EPAN', 'BABYFB', 'VLXPAD', 'FWB', 'BATH', 'EVRY', 'CHLT', 'LAZIO', 'CMCX', '1WO', 'BEAR', 'BIT', 'BOT', 'HPAD', 'PARA', 'EBSC', 'GRIMEX', 'RSUN', 'APAD', 'QUARTZ', 'TZKI', 'WOLVERINU', 'INUYASHA', 'MINISHIB', 'PINU', 'YOCO', 'RBN', 'KITTY', 'ONE', 'DINGER', 'JRIT', 'KAC', 'ASS', 'TRONPAD', 'SWAPP', 'OBS', 'AUR', 'MEWTWO', 'MSA', 'JPAW', 'L', 'BOXT', 'LUMI', 'ALLBI', 'TUP', 'SCLP', 'FOL', 'KAREN', 'SAMO', 'SQUID', 'CATGIRL', 'OPIUM', 'DOGEZILLA', 'TABOO', 'AURY', 'GODS', 'GINUX', 'SPWN', 'PIST', 'PANDO', '1INCH', 'WEB', 'TUSD', 'SIP', 'BCHA', 'MYL', 'VPP', 'BPRIVA', 'MONONOKEINU', 'POCO', 'RRT', 'XRT', 'ALCHE', 'TRIAS', 'YAP', 'HMT', 'LVX', 'QUBITICA', 'NFTB', 'FOXF', 'STS', 'OXY', 'WIFEDOGE', 'RD', 'IDTT', 'RARE', 'STC', 'NASADOGE', 'FAST', 'TIKI', 'PARAB', 'LZ', 'IBNB', 'APYS', 'PERA', 'MWAR', 'SHILL', 'CATE', 'DAR', 'ENV', 'CBRL', 'WARS', 'DBA', 'BRKL', 'YAE', 'ECC', 'ORT', 'BLS', 'FNDZ', 'KCCM', 'FBNB', 'QDX', 'EMPIRE', 'BCNA', 'SOUND', 'DREAMS', 'CATZ', 'BNPL', 'CWAR', 'FF', 'DFSG', 'SLND', 'ZUNA', 'KMON', 'MERKLE', 'REU', 'ETERNAL', 'DOG', 'STKATOM', 'BACON', 'STKXPRT', 'DXCT', 'XDEFI', 'DOGEDASH', 'BLOCKS', 'GM', 'BOBA', 'AGEUR', 'ANGLE', 'NFD', 'METACAT', 'LEAG', 'SNOOP', 'YEL', 'MARS4', 'STANDARD', 'DVF', 'STRP', 'FOLD', 'SWD', 'LMT', 'LINKBULL', 'WDR', 'SPAY', 'DMLG', 'HERA', 'AVN', 'WAI', 'NORA', 'CERE', 'GODZ', 'DNFT', 'PORTO', 'PSP', 'REVA', 'CHAMP', 'XNFT', 'KFT', 'THN', 'ROCKI', 'SUNNY', 'GMCOIN', 'MARSRISE', 'BTR', 'RDT', 'RAY', 'BMON', 'POLL', 'BNX', 'CELL', 'NOTE', 'WILD', 'LOCK', 'HIVE', 'KLAY', 'PERP', 'QUICK', 'TITAN', 'STRONG', 'EWT', '10SET', 'PBR', 'API3', 'NOIA', 'PAXG', 'BIFI', 'FNK', 'DAO', 'ACE', 'YIN', 'FIO', 'RAM', 'MINIDOGE', 'NPXS', 'POLS', 'FOR', 'GTC', 'GNT', 'AMP', 'DFSOCIAL', 'ICH', 'SHIBELON', 'CPRX', 'TROY', 'DIGG', 'LKR', 'USHIBA', 'RIO', 'ERN', 'AVA', 'MIST', 'ONGAS', 'PTU', 'NCR', 'WNYC', 'LUA', 'IMX', 'SIS', 'UFO', 'GENE', 'AUCTION', 'BIRD', 'DREP', 'ILV', 'DNA', 'BICO', 'SHIRYOINU', 'GRT', 'FREN', 'PSG', 'RARI', 'SHAKE', 'MILK2', 'LTNM', 'SANTOS', 'XTAG', 'CCAR', 'FLAME', 'UNIC', 'PERI', 'MIMO', 'DS', 'MOCHI', 'GN', 'DOE', 'TRL', 'HKC', 'PEOPLE', 'DOSE', 'POLYDOGE', 'LATTE', 'TOWN', 'FLM', 'NODE', 'WAXE', 'XPNET', 'SCAR', 'REALM', 'MEMEINU', 'PARAL', 'MONO', 'XPAY', 'CWT', 'TSC', 'NETCOIN', 'MODEX', 'LEOPARD', 'LACE', 'PCL', 'MNET', 'VOXEL', 'RIFI', 'ZMT', 'SPOOL', 'BHD', 'BOSON', 'NYN', 'TRVL', 'CINU', 'BTRFLY', 'EZ', 'ETHOS', 'NIFTSY', 'EURT', 'GOG', 'JFIN', 'KIRO', 'MNS', 'MC', 'GMPD', 'MHT', 'SFM', 'HIGH', 'WSB', 'GF', 'DEVT', 'STKAAVE', 'STZEN', 'AAA', 'NIF', 'MBS', 'ZERO', 'IBFR', 'CRF', 'BEPRO', 'INTER', 'GATE', 'LUNR', 'TULIP', 'WOD', 'GLM', 'HACHIKO', 'PONYO', 'ASIA', 'ZEROEX', 'VPAD', 'YOOSHI', 'NYANTE', 'IMPACTXP', 'VADER', 'KASTA', 'LUS', 'FLOKI', 'ARDX', 'WNK', 'BTTOLD', 'COVN', 'PHONON', 'GAMMA', '1ART', 'MITX', 'BLOOMT', 'BLT', 'STARSH', 'STARS', 'NCT', 'NAMEC', 'DON', 'UNB', 'NRV', 'SYN', 'STARL', 'WBTC', 'ALBT', 'ATRI', 'BEST', 'OHMV2', 'VGX', 'YOP', 'BULL', 'KATA', 'GLMR', 'ERD', 'ATOLO', 'AURORA', 'WND', 'BONDED', 'SSG', 'JBX', 'BORA', 'GAMEC', 'OCT', 'SHA', 'ACM', 'VIDT', 'BONDLY', 'OCN', 'OHM', 'COMT', 'DPS', 'WLITI', 'WSTETH', 'BED', 'ZAM', 'ETHBEAR', 'ROOK', 'WTK', 'RNDR', 'XPRT', 'BRGX', 'OOKI', 'LOKA', 'XPT', 'DHT', 'SHINJA', 'SOFI', 'GRAVITYF', 'GFI', 'SLC', 'LOOKS', 'OSMO', 'OXD', 'ASH', 'PLI', 'EVER', 'VOY', 'ACA', 'ATH', 'ORACLECHAIN', 'MOFOLD', 'LOVE', 'GARI', 'NUM', 'LIFE', 'EGC', 'VLX', 'MPT', 'CHMB', 'XBB', 'DMTR', 'DPR', 'HITBTC', 'IGNIS', 'NCASH', 'O3', 'FREEROSS', 'FCON', 'IXS', 'ARKER', 'FRR', 'MAKI', 'SWASH', 'FTG', 'ZKT', 'PEL', 'SOLR', 'SUNOLD', 'AUTO', 'WTC', 'ILA', 'CLH', 'RACEFI', 'CWEB', 'DAPPX', 'CPOOL', 'ACCEL', 'DRONE', 'ORCA', 'SX', '1ECO', '1PECO', 'APXP', 'ARTII', 'B2M', 'CHN', 'CIND', 'CRFI', 'LPNT', 'MBET', 'TONIC', 'SNS', 'HBB', 'ZKP', 'TRACE', 'NT', 'WALLET', 'LOOTEX', 'STORE', 'BPAD', 'CBC', 'DIFX', 'BLINU', 'CULT', 'CHEESUS', 'BDOT', 'CGT', 'RADR', 'BAOE', 'PERC', 'ONSTON', 'SUPER', 'XLD', 'SGR', 'STOX', 'STX', 'ENTC', 'KOM', 'CFXT', 'KINGSHIB', 'PAF', 'CLIFF', 'FTS', 'CTPL', 'HYVE', 'EPTT', 'EWC', 'ASTRO', 'MYCE', 'ADS', 'ALKI', 'VDV', 'TYCOON', 'JCC', 'GPX', 'ICA', 'KRRX', 'MF1', 'MQL', 'NKCLC', 'YEFI', 'FLUX', 'ZPTC', 'GGG', 'EGI', 'MIKS', 'YAMV1', 'YAMV2', 'SURV', 'FALCONS', 'ROAR', 'ERTHA', 'MMPRO', 'FSHN', 'SVS', 'STON', 'DHS', 'DEPO', 'EVU', 'POSI', 'MONS', 'LBLOCK', 'PLASTIK', 'TRAVA', 'OPENRI', 'BRISE', 'YUMMY', 'VODKA', 'LEXI', 'AFEN', 'LOVELY', 'TCY', 'AVG', 'SSV', 'WRK', 'CODI', 'BEPR', 'BRT', 'APP', 'THT', 'LNR', 'WEC', 'ZONO', 'NFTY', 'BHAX', 'LUFFY', 'YUCT', 'PDX', 'VIBLO', 'SHOP', 'UPI', 'VOX', 'SAP', 'GNNX', 'KAINET', 'UDO', 'I7', 'DIA', 'PTD', 'REFI', 'UPR', 'OPENDAOSOS', 'HEP', 'REVON', 'AWT', 'VERA', 'GHD', 'ANTEX', 'MEL', 'KIAN', 'ZUKI', 'OOGI', 'PLEX', 'TWIN', 'IJC', 'UNBNK', 'ALD', 'TKING', 'LORD', 'DDDD', 'INFTT', 'MOO', 'NEXM', 'PKN', 'HEC', 'VEMP', 'RADAR', 'BLUESPARROW', 'ASPO', 'SENATE', 'BSI', 'VYNC', 'KIBA', 'EGR', 'GAMINGSHIBA', 'DEVO', 'T', 'RETIRE', 'GAIA', 'GUSDT', 'ZINU', 'ERON', 'ZLDA', 'QRX', 'BLXM', 'DBX', 'SANA', 'SDOG', 'LORDZ', 'DOME', 'GTFO', 'AFIN', 'DNF', 'MVRS', 'FUKU', 'XIV', 'ATS', 'ACU', 'ANTIS', 'DODI', 'GRC', 'MCRT', 'QUACK', 'DBD', 'IMC', 'CART', 'ACYC', 'SAUNA', 'BHC', 'OUD', 'PIZA', 'MRCR', 'MAN', 'NEOM', 'LFW', 'DOGECOLA', 'DVDX', 'RTT', 'GFCE', 'NXD', 'WTON', 'PKR', 'ZENITH', 'PIGGY', 'LILFLOKI', 'ALCX', 'SANSHU', 'SUNI', 'TFBX', 'UBX', 'XRPBULL', 'GRO', 'MR', 'WELT', 'MESA', 'SRWD', 'MRXB', 'MYNE', 'SMD', 'TEDDY', 'CBAT', 'CZRX', 'BOG', 'BUNNY', 'FOX', 'SWINGBY', 'BMI', 'DEXT', 'MUSE', 'PPAY', 'UNQ', 'CDAI', 'GMR', 'CUSDT', 'CSAI', 'REC', 'CREP', 'CETH', 'CUSDC', 'CCOMP', 'RENA', 'ARTI', 'WEVE', 'CRBN', 'ITAM', 'KAI', 'LIME', 'BLIN', 'MEAN', 'SIDUS', 'SHOE', 'AART', 'LAVA', 'AVAX', 'TITA', 'BZZ', 'CAS', 'COVER', 'DDRT', 'DPI', 'GZONE', 'ETNA', 'SUPE', 'SPO', 'XCV', 'IDIA', 'GZLR', 'BMIC', 'SHAMAN', 'ALPINE', 'ZAMZAM', 'BSW', 'OBROK', 'CYFI', 'CSUSHI', 'CMKR', 'CLINK', 'CAAVE', 'SHFT', 'UNQT', 'DEFIL', 'DFL', 'BLOCK', 'REALY', 'REAL', 'MVP', 'WKD', 'HPL', 'SHIELD', 'LAVAX', 'UNIX', 'TOMB', 'SUSHI', 'DOGESWAP', 'BF', 'MCB', 'CHESS', 'TONTOKEN', 'CRU', 'DMT', 'DEPTH', 'PTP', 'MOONEY', 'LQR', 'BOOSTO', 'BOO', 'TIME', 'BSL', 'GCOIN', 'VCG', 'X2Y2', 'RANKER', 'PHCR', 'SPELLFIRE', 'MRHB', 'QUIDD', 'MOLA', 'PSTAKE', 'STARLY', 'MOVD', 'DUEL', 'ARKN', 'MGG', 'CGU', 'SHIBTC', 'VOW', 'ESGC', 'HDRN', 'BPTC', 'BSPARROW', 'KUNCI', 'AIMX', 'BRCP', 'MERCU', 'CALI', 'BENT', 'ROCO', 'SOURCE', 'ARCANE', 'NVIR', 'FROYO', 'NBS', 'POOLZ', 'GOM2', 'KOKO', 'KRT', 'LTX', 'SDAO', 'SWAP', 'TBTC', 'TORN', 'UST', 'YUANG', 'ALTBULL', 'BOTX', 'BUX', 'COIN', 'DINO', 'WING', 'WOW', 'BNIX', 'CONT', 'GLQ', 'CKT', 'ANN', 'JUSTICE', 'ALIX', 'GDOGE', 'MQST', 'FABRIC', 'MOOI', 'CBG', 'ULTGG', 'ALT', 'RAIN', 'TRADE', 'LIKE', 'MTS', 'CTR', 'OKT', 'AGLD', 'GALA', 'HBAR', 'DRAGONMA', 'ZKS', 'GASDAO', 'YEED', 'WIN', 'SUR', 'STK', 'HPT', 'MWAT', 'GOLDMIN', 'BEYOND', 'FLUXT', 'DVI', 'CNDL', 'XDAG', 'DEXA', 'UMEE', 'BIZZ', 'PROM', 'EYES', 'MSU', 'TREEB', 'EVA', 'AVINOC', 'SD', 'RAZE', 'MOM', 'TAUR', 'AWNEX', 'LOX', 'AAG', 'VXL', 'RETH2', 'ELV', 'ISA', 'KPC', 'SOUL', 'LATX', 'ALG', 'ACAT', 'STG', 'BTM', 'HE', 'JONES', 'BOX', 'LBA', 'DF', 'ENCRYPG', 'ARCONA', 'NTR', 'HVE2', 'APT', 'BRIGHT', 'PXP', 'CUDOS', 'BERRY', 'WEX', 'GLS', 'XQC', 'BRIGHTU', 'LOV', 'PYE', 'TRUEBIT', 'RENTBE', 'AIR', 'BXC', 'BCOIN', 'BLACK', 'CRP', 'CRAFT', 'DES', 'DIS', 'GYM', 'GOAL', 'PRT', 'AFX', 'XIDO', 'PEPPER', 'BONE', 'SMARTNFT', 'USDU', 'EURU', 'APED', 'LORDS', 'MULTI', 'ANY', 'BANANA', 'GAMEFI', 'ACET', 'GORILLA', 'LINKBEAR', 'XPROT', 'AIRTOKEN', 'BITCOINC', 'BANNER', 'BTSC', 'GMTT', 'GMT', 'PSY', 'PSB', 'SSS', 'TERAWATT', 'ORO', 'PLTXYZ', 'RON', 'PLT', 'RISE', 'STA', 'ZIRVE', 'HEROESC', 'PCI', 'GDL', 'BLOK', 'QUA', 'PROBIN', 'BABYB', 'BRMV', 'MILLI', 'BZENIQ', 'TMED', 'STARTA', 'EPIC', 'TOR', 'QUASA', 'VRN', 'WGC', 'SFX', 'KPOP', 'KTX', 'TITANO', '3FT', 'WIT', 'WEGEN', 'CHAINCADE', 'TRYC', 'GOZ', 'AFC', 'VCF', 'NAP', 'BOBC', 'GWT', 'UPO', 'LIST', 'TLB', 'TANK', 'MDAO', 'SEON', 'NFTI', 'CMERGE', 'METAN', 'NEKO', 'TCR', 'MILC', 'PLAYKEY', 'CFC', 'LIQUI', 'LIQ', 'MNY', 'BTL', 'FOREX', 'RBIF', 'NBL', 'CHEDDA', 'SOLAR', 'FEN', 'MERIDIAN', 'METADOGEV2', 'LIFETOKEN', 'FTB', 'VENT', 'GEAR', 'ANML', 'MMF', 'LMR', 'SCREAM', 'BRWL', 'AQUAP', 'VISION', 'HOLY', 'WFLOW', 'LDN', 'QOM', 'MAGIC', 'TCANDY', 'WAXP', 'ZRX', 'TRUE', 'TRV', 'TOPC', 'TEN', 'TCT', 'SUN', 'ABBC', 'ELF', 'AIDOC', 'APL', 'SNT', 'BAT', 'SENT', 'BGG', 'SENC', 'KEY', 'SALT', 'RING', 'CAPP', 'CV', 'CODY', 'QNT', 'PRE', 'PORTAL', 'CRV', 'DAT', 'DGD', 'DMG', 'DOCK', 'DRGN', 'EKT', 'EDU', 'ELA', 'OBSR', 'FUEL', 'FRM', 'GT', 'HSC', 'HEDG', 'JRT', 'JAR', 'JNT', 'MKR', 'MEME', 'PEX', 'MILO', 'MBT', 'ZBC', 'KAIKEN', 'AILINK', 'ALI', 'ASTON', 'ASTO', 'PULI', 'CAW', 'WWY', 'SQUAWK', 'TT', 'GLD', 'JADEC', 'JADE', 'VOLT', 'LANDB', 'LAND', 'WAGG', 'WAG', 'GAME', 'GP', 'GOLDENG', 'FAN', 'STARBASE', 'STAR', 'GAMEX', 'GMX', 'GHC', 'GHCOLD', 'C2X', 'WTF', 'SKET', 'KBOX', 'JCR', 'APE', 'ADB', 'AGVC', 'ABL', 'ABT', 'YCC', 'YFI', 'AVT', 'WETH', 'BNT', 'WAN', 'WABI', 'VIBE', 'VTHO', 'VEST', 'UBT', 'UMA', 'ULTRA', 'UBEX', 'FCT', 'RUNE', 'ABYSS', 'FAT', 'PAY', 'TRB', 'FET', 'TEL', 'FIL', 'SXP', 'SWRV', 'SNC', 'FTT', 'BLZ', 'FSN', 'SNET', 'SKM', 'BRD', 'SIX', 'AGI', 'GBYTE', 'SRM', 'CELO', 'LINK', 'CND', 'CVC', 'SAND', 'CNNS', 'CET', 'COFI', 'RSR', 'REN', 'CVNT', 'ATOM', 'CREAM', 'RED', 'MCO', 'CRO', 'RDN', 'QCX', 'QKC', 'CMT', 'OKB', 'CVP', 'DPY', 'GNO', 'PPT', 'DENT', 'MATIC', 'PLBT', 'YFII', 'HIT', 'HOT', 'DNT', 'HXRO', 'RATING', 'ELEC', 'ELY', 'TSL', 'ENG', 'ENJ', 'ICOS', 'XNK', 'ISR', 'IIC', 'IDT', 'IRIS', 'JST', 'KIN', 'KRL', 'LDC', 'LEMO', 'LBC', 'LET', 'LTK', 'LTO', 'MTL', 'FLY', 'MMETA', 'MEX', 'MITH', 'MORE', 'MX', 'NEBL', 'NEC', 'XEM', 'NEO', 'NKN', 'OGN', 'OMG', 'ECOM', 'OPEN', 'ORBS', 'FINA', 'TAKI', 'MEVR', 'CATCOIN', 'MU', 'INDI', 'MSQ', 'ROCKETCOIN', 'ROCK', 'HYDROMINER', 'H2O', 'CSR', 'STBU', 'VTG', 'MISA', 'XRUN', 'NBT', 'PLSD', 'AKT', 'SOY', 'MOVEY', 'BRN', 'YOUC', 'EGLD', 'CREO', 'GETH', 'HYPERD', 'HDAO', 'RIF', 'ZIL', 'ZLA', 'ZSC', 'ZB', 'ZAP', 'YOYOW', 'YOU', 'YEE', 'YAM', 'XYO', 'XMX', 'AAVE', 'ADX', 'AERGO', 'DLT', 'AST', 'AKRO', 'ALGO', 'SOC', 'ME', 'AMIO', 'AMPL', 'ANKR', 'WXT', 'APPC', 'IQ', 'ANT', 'WINGS', 'XUC', 'ARDR', 'ARPA', 'WPR', 'WGRT', 'EXM', 'FTI', 'WAB', 'IPL', 'VNT', 'VIDY', 'FTM', 'FYP', 'FKX', 'FRONT', 'FUNDZ', 'FUN', 'FXP', 'VIB', 'VRS', 'UTK', 'USDK', 'UQC', 'UNI', 'ULT', 'UGAS', 'UUU', 'TRX', 'TRIO', 'TNB', 'TNT', 'THX', 'THR', 'XTZ', 'LUNA', 'TERN', 'TEMCO', 'TLOS', 'SNX', 'SWTH', 'CHSB', 'SWFTC', 'RMT', 'SUKU', 'ATP', 'AUC', 'REP', 'GEM', 'GNX', 'GVT', 'GTO', 'AOA', 'AXS', 'GSC', 'BAX', 'BAND', 'GMB', 'BKBT', 'BEL', 'BZNT', 'BEZ', 'BIX', 'GXC', 'FARM', 'KAN', 'BMX', 'HPB', 'HQX', 'DATA', 'STORJ', 'XLM', 'SBD', 'HT', 'SNM', 'HYDRO', 'SOL', 'SKY', 'SRN', 'SNGLS', 'SHR', 'UPP', 'SEELE', 'SCRT', 'DDD', 'SAN', 'RUFF', 'HYN', 'IHT', 'IDEX', 'RLC', 'INJ', 'XRP', 'REQ', 'REPO', 'RENBTC', 'BUT', 'REM', 'RFR', 'BKK', 'BCDN', 'BLOC', 'BCPT', 'RVN', 'BFT', 'QSP', 'BNTY', 'QLC', 'BRC', 'QASH', 'PMA', 'PRO', 'CELR', 'POWR', 'CEL', 'CENNZ', 'POLY', 'CHR', 'IOST', 'DOT', 'POCC', 'ITC', 'IQN', 'MEET', 'CHP', 'CBT', 'COMP', 'CSM', 'CNN', 'CTXC', 'COTI', 'XCP', 'COV', 'KICK', 'CRPT', 'C20', 'PING', 'KCS', 'KSM', 'KNC', 'LAMB', 'LST', 'CVT', 'DACC', 'DAC', 'DBC', 'DCN', 'LOOM', 'TMTG', 'LRC', 'DGTX', 'LUN', 'LYM', 'DUSK', 'MFT', 'DX', 'EKO', 'MVL', 'GUP', 'EGT', 'MXC', 'EM', 'MTX', 'MDS', 'NRG', 'MTA', 'MLN', 'MHC', 'EOSDAC', 'ETP', 'MET', 'MINA', 'MIX', 'MDA', 'EOSDT', 'ESS', 'EVX', 'MOF', 'MTH', 'TKN', 'MOC', 'MBL', 'MTV', 'NEX', 'NEAR', 'NAS', 'NEU', 'NCC', 'NEWOS', 'NEW', 'NEXO', 'NULS', 'NMR', 'NXM', 'OCEAN', 'OLT', 'RNT', 'OAX', 'TRAC', 'ORN', 'PPC', 'PVT', 'PNT', 'SNK', 'SRK', 'XRUNE', 'STRM', 'DTA', 'G999', 'GOLD', 'HAPI', 'LEO', 'MAID', 'BONTE', 'OM', 'USDD', 'KRD', 'PART', 'UNDEAD', 'SLEEPEE']\n"
     ]
    }
   ],
   "source": [
    "class0 = filtered_c0.index.tolist()\n",
    "print(class0)"
   ]
  },
  {
   "cell_type": "markdown",
   "id": "e26b1d1b",
   "metadata": {},
   "source": [
    "## Currencies in class 1:"
   ]
  },
  {
   "cell_type": "code",
   "execution_count": 182,
   "id": "be9c5b8b",
   "metadata": {},
   "outputs": [
    {
     "name": "stdout",
     "output_type": "stream",
     "text": [
      "['42', 'NSR', 'TRI', 'CMTC', 'CHAT', 'PURA', 'ADK', 'DAPS', 'VEIL', 'MWC', 'RVC', 'TTT', 'XDNA', 'WBBC', 'TPAY', 'ETZ', 'SIN', 'QRK', 'UEC', 'MTRG', 'AR', 'BTH', 'BCMC1', 'RBTC', 'UBTC', 'VID', 'VRC', 'EMC', 'PIN', 'COVAL', 'ERG', 'GENIX', 'BEAM', 'RTM', 'USDP', 'STRAX', 'AEON', 'TENT', 'ARRR', 'INT', 'SFP', 'CKB', 'HNS', 'AURORAC', 'VAL', 'ENS', 'NIM', 'AMB', 'BTCZ', 'XEC', 'SATS', 'ANC', 'EXP', 'BDX', 'SIGNA', 'MAPS', 'CDN', 'BTCP', 'BLOCKN', 'EMC2', 'USX', 'QRL', 'RDD', 'SYS', 'AION', 'MEC', 'APTCOIN', 'TAU', 'TORCOIN', 'CZZ', 'TECRA', 'FOREXCOIN', 'UBQ', 'SUPERC', 'STEEM', 'XSN', 'SHIFT', 'BLOCM', 'RISEVISION', 'QTUM', 'XDN', 'DOGE', 'ONT', 'FLO', 'GRIN', 'NLG', 'IOC', 'MONA', 'XWC', 'BTC', 'BCD', 'BSV', 'VET', 'FIRO', 'BTS', 'BTT', 'BLK', 'SIB', 'SC', 'SERO', 'SLS', 'RCN', 'DASH', 'DERO', 'GRS', 'HLC', 'ZEN', 'ETN', 'NMC', 'NANO', 'PIVX', 'ZEL', 'ZEC', 'ACT', 'AE', 'ARK', 'WAVES', 'FTC', 'GAMECRED', 'VIA', 'VTC', 'XVG', 'VRA', 'VSYS', 'GO', 'GLC', 'BNB', 'BCH', 'BTG', 'XHV', 'SOLVE', 'SMART', 'HC', 'ICX', 'BCN', 'CLO', 'ADA', 'PST', 'POT', 'CLOAK', 'POA', 'MIOTA', 'KCASH', 'KMD', 'LSK', 'LTC', 'DCR', 'DGB', 'EOS', 'MOAC', 'ETH', 'ETC', 'XMR', 'NAV', 'NVC', 'NXT', 'OXYC', 'SAFEX', 'ZANO', 'CTC']\n"
     ]
    }
   ],
   "source": [
    "class1 = filtered_c1.index.tolist()\n",
    "print(class1)"
   ]
  },
  {
   "cell_type": "markdown",
   "id": "71b388e3",
   "metadata": {},
   "source": [
    "## Currencies in class 2:"
   ]
  },
  {
   "cell_type": "code",
   "execution_count": 183,
   "id": "50642a2d",
   "metadata": {},
   "outputs": [
    {
     "name": "stdout",
     "output_type": "stream",
     "text": [
      "['NXS', 'AAC']\n"
     ]
    }
   ],
   "source": [
    "class2 = filtered_c2.index.tolist()\n",
    "print(class2)"
   ]
  },
  {
   "cell_type": "markdown",
   "id": "8bdcfbfb",
   "metadata": {},
   "source": [
    "##### Case Study 2: Sampling the top class 0 currencies on CoinMarketCap.com and finding out their correlation to bitcoin price fluctuations. Predicting future prices is also discussed."
   ]
  },
  {
   "cell_type": "markdown",
   "id": "3021dfd6",
   "metadata": {},
   "source": [
    "This is helpful because if you are thinking of buying a certain cryptocurrency, you would not want to buy it when Bitcoin is down if it has a high correlation to the crypto you're interested in."
   ]
  },
  {
   "cell_type": "code",
   "execution_count": 184,
   "id": "24d6ff90",
   "metadata": {},
   "outputs": [],
   "source": [
    "import numpy as np\n",
    "import pandas as pd\n",
    "import datetime as dt"
   ]
  },
  {
   "cell_type": "markdown",
   "id": "e0b0c595",
   "metadata": {},
   "source": [
    "Importing Litecoin data for the past year"
   ]
  },
  {
   "cell_type": "code",
   "execution_count": 185,
   "id": "2910aab0",
   "metadata": {
    "scrolled": true
   },
   "outputs": [
    {
     "data": {
      "text/html": [
       "<div>\n",
       "<style scoped>\n",
       "    .dataframe tbody tr th:only-of-type {\n",
       "        vertical-align: middle;\n",
       "    }\n",
       "\n",
       "    .dataframe tbody tr th {\n",
       "        vertical-align: top;\n",
       "    }\n",
       "\n",
       "    .dataframe thead th {\n",
       "        text-align: right;\n",
       "    }\n",
       "</style>\n",
       "<table border=\"1\" class=\"dataframe\">\n",
       "  <thead>\n",
       "    <tr style=\"text-align: right;\">\n",
       "      <th></th>\n",
       "      <th>Open</th>\n",
       "      <th>High</th>\n",
       "      <th>Low</th>\n",
       "      <th>Close</th>\n",
       "      <th>Adj Close</th>\n",
       "      <th>Volume</th>\n",
       "      <th>symbol</th>\n",
       "    </tr>\n",
       "    <tr>\n",
       "      <th>Date</th>\n",
       "      <th></th>\n",
       "      <th></th>\n",
       "      <th></th>\n",
       "      <th></th>\n",
       "      <th></th>\n",
       "      <th></th>\n",
       "      <th></th>\n",
       "    </tr>\n",
       "  </thead>\n",
       "  <tbody>\n",
       "    <tr>\n",
       "      <th>2021-05-09</th>\n",
       "      <td>347.090027</td>\n",
       "      <td>388.232788</td>\n",
       "      <td>335.173462</td>\n",
       "      <td>386.450775</td>\n",
       "      <td>386.450775</td>\n",
       "      <td>9835832552</td>\n",
       "      <td>LTC</td>\n",
       "    </tr>\n",
       "    <tr>\n",
       "      <th>2021-05-10</th>\n",
       "      <td>387.869171</td>\n",
       "      <td>412.960144</td>\n",
       "      <td>339.138947</td>\n",
       "      <td>359.329315</td>\n",
       "      <td>359.329315</td>\n",
       "      <td>13240769672</td>\n",
       "      <td>LTC</td>\n",
       "    </tr>\n",
       "    <tr>\n",
       "      <th>2021-05-11</th>\n",
       "      <td>359.258087</td>\n",
       "      <td>378.859131</td>\n",
       "      <td>345.298828</td>\n",
       "      <td>377.388794</td>\n",
       "      <td>377.388794</td>\n",
       "      <td>8798204078</td>\n",
       "      <td>LTC</td>\n",
       "    </tr>\n",
       "    <tr>\n",
       "      <th>2021-05-12</th>\n",
       "      <td>377.670532</td>\n",
       "      <td>393.132477</td>\n",
       "      <td>303.084869</td>\n",
       "      <td>303.084869</td>\n",
       "      <td>303.084869</td>\n",
       "      <td>8782996412</td>\n",
       "      <td>LTC</td>\n",
       "    </tr>\n",
       "    <tr>\n",
       "      <th>2021-05-13</th>\n",
       "      <td>310.102386</td>\n",
       "      <td>332.028473</td>\n",
       "      <td>292.280670</td>\n",
       "      <td>316.909332</td>\n",
       "      <td>316.909332</td>\n",
       "      <td>9777636796</td>\n",
       "      <td>LTC</td>\n",
       "    </tr>\n",
       "  </tbody>\n",
       "</table>\n",
       "</div>"
      ],
      "text/plain": [
       "                  Open        High         Low       Close   Adj Close  \\\n",
       "Date                                                                     \n",
       "2021-05-09  347.090027  388.232788  335.173462  386.450775  386.450775   \n",
       "2021-05-10  387.869171  412.960144  339.138947  359.329315  359.329315   \n",
       "2021-05-11  359.258087  378.859131  345.298828  377.388794  377.388794   \n",
       "2021-05-12  377.670532  393.132477  303.084869  303.084869  303.084869   \n",
       "2021-05-13  310.102386  332.028473  292.280670  316.909332  316.909332   \n",
       "\n",
       "                 Volume symbol  \n",
       "Date                            \n",
       "2021-05-09   9835832552    LTC  \n",
       "2021-05-10  13240769672    LTC  \n",
       "2021-05-11   8798204078    LTC  \n",
       "2021-05-12   8782996412    LTC  \n",
       "2021-05-13   9777636796    LTC  "
      ]
     },
     "execution_count": 185,
     "metadata": {},
     "output_type": "execute_result"
    }
   ],
   "source": [
    "ltc_data = pd.read_csv('LTC-USD.csv', index_col='Date')\n",
    "ltc_data['symbol']='LTC'\n",
    "ltc_data.head()"
   ]
  },
  {
   "cell_type": "markdown",
   "id": "53c9ae17",
   "metadata": {},
   "source": [
    "Importing Ethereum data for the past year"
   ]
  },
  {
   "cell_type": "code",
   "execution_count": 186,
   "id": "87578a57",
   "metadata": {
    "scrolled": true
   },
   "outputs": [
    {
     "data": {
      "text/html": [
       "<div>\n",
       "<style scoped>\n",
       "    .dataframe tbody tr th:only-of-type {\n",
       "        vertical-align: middle;\n",
       "    }\n",
       "\n",
       "    .dataframe tbody tr th {\n",
       "        vertical-align: top;\n",
       "    }\n",
       "\n",
       "    .dataframe thead th {\n",
       "        text-align: right;\n",
       "    }\n",
       "</style>\n",
       "<table border=\"1\" class=\"dataframe\">\n",
       "  <thead>\n",
       "    <tr style=\"text-align: right;\">\n",
       "      <th></th>\n",
       "      <th>Open</th>\n",
       "      <th>High</th>\n",
       "      <th>Low</th>\n",
       "      <th>Close</th>\n",
       "      <th>Adj Close</th>\n",
       "      <th>Volume</th>\n",
       "      <th>symbol</th>\n",
       "    </tr>\n",
       "    <tr>\n",
       "      <th>Date</th>\n",
       "      <th></th>\n",
       "      <th></th>\n",
       "      <th></th>\n",
       "      <th></th>\n",
       "      <th></th>\n",
       "      <th></th>\n",
       "      <th></th>\n",
       "    </tr>\n",
       "  </thead>\n",
       "  <tbody>\n",
       "    <tr>\n",
       "      <th>2021-05-09</th>\n",
       "      <td>3911.463135</td>\n",
       "      <td>3981.259033</td>\n",
       "      <td>3743.989014</td>\n",
       "      <td>3928.844727</td>\n",
       "      <td>3928.844727</td>\n",
       "      <td>50568290278</td>\n",
       "      <td>ETH</td>\n",
       "    </tr>\n",
       "    <tr>\n",
       "      <th>2021-05-10</th>\n",
       "      <td>3924.413330</td>\n",
       "      <td>4197.473145</td>\n",
       "      <td>3684.451660</td>\n",
       "      <td>3952.293945</td>\n",
       "      <td>3952.293945</td>\n",
       "      <td>62691789007</td>\n",
       "      <td>ETH</td>\n",
       "    </tr>\n",
       "    <tr>\n",
       "      <th>2021-05-11</th>\n",
       "      <td>3948.271973</td>\n",
       "      <td>4178.208984</td>\n",
       "      <td>3783.889404</td>\n",
       "      <td>4168.701172</td>\n",
       "      <td>4168.701172</td>\n",
       "      <td>52679737865</td>\n",
       "      <td>ETH</td>\n",
       "    </tr>\n",
       "    <tr>\n",
       "      <th>2021-05-12</th>\n",
       "      <td>4174.635742</td>\n",
       "      <td>4362.350586</td>\n",
       "      <td>3785.848633</td>\n",
       "      <td>3785.848633</td>\n",
       "      <td>3785.848633</td>\n",
       "      <td>69023382175</td>\n",
       "      <td>ETH</td>\n",
       "    </tr>\n",
       "    <tr>\n",
       "      <th>2021-05-13</th>\n",
       "      <td>3828.918457</td>\n",
       "      <td>4032.563477</td>\n",
       "      <td>3549.407227</td>\n",
       "      <td>3715.148438</td>\n",
       "      <td>3715.148438</td>\n",
       "      <td>78398214539</td>\n",
       "      <td>ETH</td>\n",
       "    </tr>\n",
       "  </tbody>\n",
       "</table>\n",
       "</div>"
      ],
      "text/plain": [
       "                   Open         High          Low        Close    Adj Close  \\\n",
       "Date                                                                          \n",
       "2021-05-09  3911.463135  3981.259033  3743.989014  3928.844727  3928.844727   \n",
       "2021-05-10  3924.413330  4197.473145  3684.451660  3952.293945  3952.293945   \n",
       "2021-05-11  3948.271973  4178.208984  3783.889404  4168.701172  4168.701172   \n",
       "2021-05-12  4174.635742  4362.350586  3785.848633  3785.848633  3785.848633   \n",
       "2021-05-13  3828.918457  4032.563477  3549.407227  3715.148438  3715.148438   \n",
       "\n",
       "                 Volume symbol  \n",
       "Date                            \n",
       "2021-05-09  50568290278    ETH  \n",
       "2021-05-10  62691789007    ETH  \n",
       "2021-05-11  52679737865    ETH  \n",
       "2021-05-12  69023382175    ETH  \n",
       "2021-05-13  78398214539    ETH  "
      ]
     },
     "execution_count": 186,
     "metadata": {},
     "output_type": "execute_result"
    }
   ],
   "source": [
    "eth_data = pd.read_csv('ETH-USD.csv', index_col='Date')\n",
    "eth_data['symbol']='ETH'\n",
    "eth_data.head()"
   ]
  },
  {
   "cell_type": "markdown",
   "id": "65b5042b",
   "metadata": {},
   "source": [
    "Importing Binance Coin data for the past year"
   ]
  },
  {
   "cell_type": "code",
   "execution_count": 187,
   "id": "361a1660",
   "metadata": {
    "scrolled": true
   },
   "outputs": [
    {
     "data": {
      "text/html": [
       "<div>\n",
       "<style scoped>\n",
       "    .dataframe tbody tr th:only-of-type {\n",
       "        vertical-align: middle;\n",
       "    }\n",
       "\n",
       "    .dataframe tbody tr th {\n",
       "        vertical-align: top;\n",
       "    }\n",
       "\n",
       "    .dataframe thead th {\n",
       "        text-align: right;\n",
       "    }\n",
       "</style>\n",
       "<table border=\"1\" class=\"dataframe\">\n",
       "  <thead>\n",
       "    <tr style=\"text-align: right;\">\n",
       "      <th></th>\n",
       "      <th>Open</th>\n",
       "      <th>High</th>\n",
       "      <th>Low</th>\n",
       "      <th>Close</th>\n",
       "      <th>Adj Close</th>\n",
       "      <th>Volume</th>\n",
       "      <th>symbol</th>\n",
       "    </tr>\n",
       "    <tr>\n",
       "      <th>Date</th>\n",
       "      <th></th>\n",
       "      <th></th>\n",
       "      <th></th>\n",
       "      <th></th>\n",
       "      <th></th>\n",
       "      <th></th>\n",
       "      <th></th>\n",
       "    </tr>\n",
       "  </thead>\n",
       "  <tbody>\n",
       "    <tr>\n",
       "      <th>2021-05-09</th>\n",
       "      <td>646.312134</td>\n",
       "      <td>678.228394</td>\n",
       "      <td>631.465271</td>\n",
       "      <td>662.228577</td>\n",
       "      <td>662.228577</td>\n",
       "      <td>4321052943</td>\n",
       "      <td>BNB</td>\n",
       "    </tr>\n",
       "    <tr>\n",
       "      <th>2021-05-10</th>\n",
       "      <td>661.450012</td>\n",
       "      <td>690.931946</td>\n",
       "      <td>596.165894</td>\n",
       "      <td>631.351990</td>\n",
       "      <td>631.351990</td>\n",
       "      <td>5157435389</td>\n",
       "      <td>BNB</td>\n",
       "    </tr>\n",
       "    <tr>\n",
       "      <th>2021-05-11</th>\n",
       "      <td>631.240601</td>\n",
       "      <td>672.459412</td>\n",
       "      <td>623.249817</td>\n",
       "      <td>672.333923</td>\n",
       "      <td>672.333923</td>\n",
       "      <td>4865455319</td>\n",
       "      <td>BNB</td>\n",
       "    </tr>\n",
       "    <tr>\n",
       "      <th>2021-05-12</th>\n",
       "      <td>671.778870</td>\n",
       "      <td>684.137695</td>\n",
       "      <td>588.185181</td>\n",
       "      <td>588.185181</td>\n",
       "      <td>588.185181</td>\n",
       "      <td>4311561442</td>\n",
       "      <td>BNB</td>\n",
       "    </tr>\n",
       "    <tr>\n",
       "      <th>2021-05-13</th>\n",
       "      <td>592.954590</td>\n",
       "      <td>632.970703</td>\n",
       "      <td>530.238220</td>\n",
       "      <td>571.434509</td>\n",
       "      <td>571.434509</td>\n",
       "      <td>7417114170</td>\n",
       "      <td>BNB</td>\n",
       "    </tr>\n",
       "  </tbody>\n",
       "</table>\n",
       "</div>"
      ],
      "text/plain": [
       "                  Open        High         Low       Close   Adj Close  \\\n",
       "Date                                                                     \n",
       "2021-05-09  646.312134  678.228394  631.465271  662.228577  662.228577   \n",
       "2021-05-10  661.450012  690.931946  596.165894  631.351990  631.351990   \n",
       "2021-05-11  631.240601  672.459412  623.249817  672.333923  672.333923   \n",
       "2021-05-12  671.778870  684.137695  588.185181  588.185181  588.185181   \n",
       "2021-05-13  592.954590  632.970703  530.238220  571.434509  571.434509   \n",
       "\n",
       "                Volume symbol  \n",
       "Date                           \n",
       "2021-05-09  4321052943    BNB  \n",
       "2021-05-10  5157435389    BNB  \n",
       "2021-05-11  4865455319    BNB  \n",
       "2021-05-12  4311561442    BNB  \n",
       "2021-05-13  7417114170    BNB  "
      ]
     },
     "execution_count": 187,
     "metadata": {},
     "output_type": "execute_result"
    }
   ],
   "source": [
    "bnb_data = pd.read_csv('BNB-USD.csv', index_col='Date')\n",
    "bnb_data['symbol']='BNB'\n",
    "bnb_data.head()"
   ]
  },
  {
   "cell_type": "markdown",
   "id": "616f683d",
   "metadata": {},
   "source": [
    "Importing Dogecoin data for the past year"
   ]
  },
  {
   "cell_type": "code",
   "execution_count": 188,
   "id": "b3d91e41",
   "metadata": {
    "scrolled": true
   },
   "outputs": [
    {
     "data": {
      "text/html": [
       "<div>\n",
       "<style scoped>\n",
       "    .dataframe tbody tr th:only-of-type {\n",
       "        vertical-align: middle;\n",
       "    }\n",
       "\n",
       "    .dataframe tbody tr th {\n",
       "        vertical-align: top;\n",
       "    }\n",
       "\n",
       "    .dataframe thead th {\n",
       "        text-align: right;\n",
       "    }\n",
       "</style>\n",
       "<table border=\"1\" class=\"dataframe\">\n",
       "  <thead>\n",
       "    <tr style=\"text-align: right;\">\n",
       "      <th></th>\n",
       "      <th>Open</th>\n",
       "      <th>High</th>\n",
       "      <th>Low</th>\n",
       "      <th>Close</th>\n",
       "      <th>Adj Close</th>\n",
       "      <th>Volume</th>\n",
       "      <th>symbol</th>\n",
       "    </tr>\n",
       "    <tr>\n",
       "      <th>Date</th>\n",
       "      <th></th>\n",
       "      <th></th>\n",
       "      <th></th>\n",
       "      <th></th>\n",
       "      <th></th>\n",
       "      <th></th>\n",
       "      <th></th>\n",
       "    </tr>\n",
       "  </thead>\n",
       "  <tbody>\n",
       "    <tr>\n",
       "      <th>2021-05-09</th>\n",
       "      <td>0.635820</td>\n",
       "      <td>0.697625</td>\n",
       "      <td>0.425706</td>\n",
       "      <td>0.570070</td>\n",
       "      <td>0.570070</td>\n",
       "      <td>46138063928</td>\n",
       "      <td>DOGE</td>\n",
       "    </tr>\n",
       "    <tr>\n",
       "      <th>2021-05-10</th>\n",
       "      <td>0.569687</td>\n",
       "      <td>0.569687</td>\n",
       "      <td>0.421291</td>\n",
       "      <td>0.449964</td>\n",
       "      <td>0.449964</td>\n",
       "      <td>16514521828</td>\n",
       "      <td>DOGE</td>\n",
       "    </tr>\n",
       "    <tr>\n",
       "      <th>2021-05-11</th>\n",
       "      <td>0.450488</td>\n",
       "      <td>0.546651</td>\n",
       "      <td>0.445034</td>\n",
       "      <td>0.495231</td>\n",
       "      <td>0.495231</td>\n",
       "      <td>14566975476</td>\n",
       "      <td>DOGE</td>\n",
       "    </tr>\n",
       "    <tr>\n",
       "      <th>2021-05-12</th>\n",
       "      <td>0.493742</td>\n",
       "      <td>0.519975</td>\n",
       "      <td>0.385376</td>\n",
       "      <td>0.385376</td>\n",
       "      <td>0.385376</td>\n",
       "      <td>8621337859</td>\n",
       "      <td>DOGE</td>\n",
       "    </tr>\n",
       "    <tr>\n",
       "      <th>2021-05-13</th>\n",
       "      <td>0.392176</td>\n",
       "      <td>0.519461</td>\n",
       "      <td>0.357175</td>\n",
       "      <td>0.490374</td>\n",
       "      <td>0.490374</td>\n",
       "      <td>18663174069</td>\n",
       "      <td>DOGE</td>\n",
       "    </tr>\n",
       "  </tbody>\n",
       "</table>\n",
       "</div>"
      ],
      "text/plain": [
       "                Open      High       Low     Close  Adj Close       Volume  \\\n",
       "Date                                                                         \n",
       "2021-05-09  0.635820  0.697625  0.425706  0.570070   0.570070  46138063928   \n",
       "2021-05-10  0.569687  0.569687  0.421291  0.449964   0.449964  16514521828   \n",
       "2021-05-11  0.450488  0.546651  0.445034  0.495231   0.495231  14566975476   \n",
       "2021-05-12  0.493742  0.519975  0.385376  0.385376   0.385376   8621337859   \n",
       "2021-05-13  0.392176  0.519461  0.357175  0.490374   0.490374  18663174069   \n",
       "\n",
       "           symbol  \n",
       "Date               \n",
       "2021-05-09   DOGE  \n",
       "2021-05-10   DOGE  \n",
       "2021-05-11   DOGE  \n",
       "2021-05-12   DOGE  \n",
       "2021-05-13   DOGE  "
      ]
     },
     "execution_count": 188,
     "metadata": {},
     "output_type": "execute_result"
    }
   ],
   "source": [
    "doge_data = pd.read_csv('DOGE-USD.csv', index_col='Date')\n",
    "doge_data['symbol']='DOGE'\n",
    "doge_data.head()"
   ]
  },
  {
   "cell_type": "markdown",
   "id": "eab0d7ca",
   "metadata": {},
   "source": [
    "Importing Cardano data for the past year"
   ]
  },
  {
   "cell_type": "code",
   "execution_count": 189,
   "id": "b6085f22",
   "metadata": {
    "scrolled": true
   },
   "outputs": [
    {
     "data": {
      "text/html": [
       "<div>\n",
       "<style scoped>\n",
       "    .dataframe tbody tr th:only-of-type {\n",
       "        vertical-align: middle;\n",
       "    }\n",
       "\n",
       "    .dataframe tbody tr th {\n",
       "        vertical-align: top;\n",
       "    }\n",
       "\n",
       "    .dataframe thead th {\n",
       "        text-align: right;\n",
       "    }\n",
       "</style>\n",
       "<table border=\"1\" class=\"dataframe\">\n",
       "  <thead>\n",
       "    <tr style=\"text-align: right;\">\n",
       "      <th></th>\n",
       "      <th>Open</th>\n",
       "      <th>High</th>\n",
       "      <th>Low</th>\n",
       "      <th>Close</th>\n",
       "      <th>Adj Close</th>\n",
       "      <th>Volume</th>\n",
       "      <th>symbol</th>\n",
       "    </tr>\n",
       "    <tr>\n",
       "      <th>Date</th>\n",
       "      <th></th>\n",
       "      <th></th>\n",
       "      <th></th>\n",
       "      <th></th>\n",
       "      <th></th>\n",
       "      <th></th>\n",
       "      <th></th>\n",
       "    </tr>\n",
       "  </thead>\n",
       "  <tbody>\n",
       "    <tr>\n",
       "      <th>2021-05-09</th>\n",
       "      <td>1.620347</td>\n",
       "      <td>1.829795</td>\n",
       "      <td>1.575998</td>\n",
       "      <td>1.770562</td>\n",
       "      <td>1.770562</td>\n",
       "      <td>8065503276</td>\n",
       "      <td>ADA</td>\n",
       "    </tr>\n",
       "    <tr>\n",
       "      <th>2021-05-10</th>\n",
       "      <td>1.766068</td>\n",
       "      <td>1.822609</td>\n",
       "      <td>1.529308</td>\n",
       "      <td>1.644696</td>\n",
       "      <td>1.644696</td>\n",
       "      <td>6463330466</td>\n",
       "      <td>ADA</td>\n",
       "    </tr>\n",
       "    <tr>\n",
       "      <th>2021-05-11</th>\n",
       "      <td>1.641717</td>\n",
       "      <td>1.778112</td>\n",
       "      <td>1.596676</td>\n",
       "      <td>1.764077</td>\n",
       "      <td>1.764077</td>\n",
       "      <td>5428571805</td>\n",
       "      <td>ADA</td>\n",
       "    </tr>\n",
       "    <tr>\n",
       "      <th>2021-05-12</th>\n",
       "      <td>1.763505</td>\n",
       "      <td>1.818942</td>\n",
       "      <td>1.552775</td>\n",
       "      <td>1.552775</td>\n",
       "      <td>1.552775</td>\n",
       "      <td>5338469591</td>\n",
       "      <td>ADA</td>\n",
       "    </tr>\n",
       "    <tr>\n",
       "      <th>2021-05-13</th>\n",
       "      <td>1.568450</td>\n",
       "      <td>1.969934</td>\n",
       "      <td>1.505321</td>\n",
       "      <td>1.933668</td>\n",
       "      <td>1.933668</td>\n",
       "      <td>14513419581</td>\n",
       "      <td>ADA</td>\n",
       "    </tr>\n",
       "  </tbody>\n",
       "</table>\n",
       "</div>"
      ],
      "text/plain": [
       "                Open      High       Low     Close  Adj Close       Volume  \\\n",
       "Date                                                                         \n",
       "2021-05-09  1.620347  1.829795  1.575998  1.770562   1.770562   8065503276   \n",
       "2021-05-10  1.766068  1.822609  1.529308  1.644696   1.644696   6463330466   \n",
       "2021-05-11  1.641717  1.778112  1.596676  1.764077   1.764077   5428571805   \n",
       "2021-05-12  1.763505  1.818942  1.552775  1.552775   1.552775   5338469591   \n",
       "2021-05-13  1.568450  1.969934  1.505321  1.933668   1.933668  14513419581   \n",
       "\n",
       "           symbol  \n",
       "Date               \n",
       "2021-05-09    ADA  \n",
       "2021-05-10    ADA  \n",
       "2021-05-11    ADA  \n",
       "2021-05-12    ADA  \n",
       "2021-05-13    ADA  "
      ]
     },
     "execution_count": 189,
     "metadata": {},
     "output_type": "execute_result"
    }
   ],
   "source": [
    "ada_data = pd.read_csv('ADA-USD.csv', index_col='Date')\n",
    "ada_data['symbol']='ADA'\n",
    "ada_data.head()"
   ]
  },
  {
   "cell_type": "code",
   "execution_count": 190,
   "id": "53b37a3e",
   "metadata": {},
   "outputs": [
    {
     "data": {
      "text/plain": [
       "(1830, 7)"
      ]
     },
     "execution_count": 190,
     "metadata": {},
     "output_type": "execute_result"
    }
   ],
   "source": [
    "cs2_data = pd.concat([eth_data, ltc_data, doge_data, ada_data, bnb_data])\n",
    "cs2_data.shape"
   ]
  },
  {
   "cell_type": "code",
   "execution_count": 191,
   "id": "4900aeb9",
   "metadata": {
    "scrolled": true
   },
   "outputs": [
    {
     "data": {
      "text/html": [
       "<div>\n",
       "<style scoped>\n",
       "    .dataframe tbody tr th:only-of-type {\n",
       "        vertical-align: middle;\n",
       "    }\n",
       "\n",
       "    .dataframe tbody tr th {\n",
       "        vertical-align: top;\n",
       "    }\n",
       "\n",
       "    .dataframe thead th {\n",
       "        text-align: right;\n",
       "    }\n",
       "</style>\n",
       "<table border=\"1\" class=\"dataframe\">\n",
       "  <thead>\n",
       "    <tr style=\"text-align: right;\">\n",
       "      <th></th>\n",
       "      <th>Open</th>\n",
       "      <th>High</th>\n",
       "      <th>Low</th>\n",
       "      <th>Close</th>\n",
       "      <th>Adj Close</th>\n",
       "      <th>Volume</th>\n",
       "      <th>symbol</th>\n",
       "    </tr>\n",
       "    <tr>\n",
       "      <th>Date</th>\n",
       "      <th></th>\n",
       "      <th></th>\n",
       "      <th></th>\n",
       "      <th></th>\n",
       "      <th></th>\n",
       "      <th></th>\n",
       "      <th></th>\n",
       "    </tr>\n",
       "  </thead>\n",
       "  <tbody>\n",
       "    <tr>\n",
       "      <th>2021-05-09</th>\n",
       "      <td>3911.463135</td>\n",
       "      <td>3981.259033</td>\n",
       "      <td>3743.989014</td>\n",
       "      <td>3928.844727</td>\n",
       "      <td>3928.844727</td>\n",
       "      <td>50568290278</td>\n",
       "      <td>ETH</td>\n",
       "    </tr>\n",
       "    <tr>\n",
       "      <th>2021-05-10</th>\n",
       "      <td>3924.413330</td>\n",
       "      <td>4197.473145</td>\n",
       "      <td>3684.451660</td>\n",
       "      <td>3952.293945</td>\n",
       "      <td>3952.293945</td>\n",
       "      <td>62691789007</td>\n",
       "      <td>ETH</td>\n",
       "    </tr>\n",
       "    <tr>\n",
       "      <th>2021-05-11</th>\n",
       "      <td>3948.271973</td>\n",
       "      <td>4178.208984</td>\n",
       "      <td>3783.889404</td>\n",
       "      <td>4168.701172</td>\n",
       "      <td>4168.701172</td>\n",
       "      <td>52679737865</td>\n",
       "      <td>ETH</td>\n",
       "    </tr>\n",
       "    <tr>\n",
       "      <th>2021-05-12</th>\n",
       "      <td>4174.635742</td>\n",
       "      <td>4362.350586</td>\n",
       "      <td>3785.848633</td>\n",
       "      <td>3785.848633</td>\n",
       "      <td>3785.848633</td>\n",
       "      <td>69023382175</td>\n",
       "      <td>ETH</td>\n",
       "    </tr>\n",
       "    <tr>\n",
       "      <th>2021-05-13</th>\n",
       "      <td>3828.918457</td>\n",
       "      <td>4032.563477</td>\n",
       "      <td>3549.407227</td>\n",
       "      <td>3715.148438</td>\n",
       "      <td>3715.148438</td>\n",
       "      <td>78398214539</td>\n",
       "      <td>ETH</td>\n",
       "    </tr>\n",
       "  </tbody>\n",
       "</table>\n",
       "</div>"
      ],
      "text/plain": [
       "                   Open         High          Low        Close    Adj Close  \\\n",
       "Date                                                                          \n",
       "2021-05-09  3911.463135  3981.259033  3743.989014  3928.844727  3928.844727   \n",
       "2021-05-10  3924.413330  4197.473145  3684.451660  3952.293945  3952.293945   \n",
       "2021-05-11  3948.271973  4178.208984  3783.889404  4168.701172  4168.701172   \n",
       "2021-05-12  4174.635742  4362.350586  3785.848633  3785.848633  3785.848633   \n",
       "2021-05-13  3828.918457  4032.563477  3549.407227  3715.148438  3715.148438   \n",
       "\n",
       "                 Volume symbol  \n",
       "Date                            \n",
       "2021-05-09  50568290278    ETH  \n",
       "2021-05-10  62691789007    ETH  \n",
       "2021-05-11  52679737865    ETH  \n",
       "2021-05-12  69023382175    ETH  \n",
       "2021-05-13  78398214539    ETH  "
      ]
     },
     "execution_count": 191,
     "metadata": {},
     "output_type": "execute_result"
    }
   ],
   "source": [
    "cs2_data.head()"
   ]
  },
  {
   "cell_type": "markdown",
   "id": "e888fdb2",
   "metadata": {},
   "source": [
    "Import bitcoin data to create a matrix of strictly close values that will be used for the heatmap."
   ]
  },
  {
   "cell_type": "code",
   "execution_count": 192,
   "id": "fa63f624",
   "metadata": {},
   "outputs": [
    {
     "data": {
      "text/html": [
       "<div>\n",
       "<style scoped>\n",
       "    .dataframe tbody tr th:only-of-type {\n",
       "        vertical-align: middle;\n",
       "    }\n",
       "\n",
       "    .dataframe tbody tr th {\n",
       "        vertical-align: top;\n",
       "    }\n",
       "\n",
       "    .dataframe thead th {\n",
       "        text-align: right;\n",
       "    }\n",
       "</style>\n",
       "<table border=\"1\" class=\"dataframe\">\n",
       "  <thead>\n",
       "    <tr style=\"text-align: right;\">\n",
       "      <th></th>\n",
       "      <th>Open</th>\n",
       "      <th>High</th>\n",
       "      <th>Low</th>\n",
       "      <th>Close</th>\n",
       "      <th>Adj Close</th>\n",
       "      <th>Volume</th>\n",
       "      <th>symbol</th>\n",
       "    </tr>\n",
       "    <tr>\n",
       "      <th>Date</th>\n",
       "      <th></th>\n",
       "      <th></th>\n",
       "      <th></th>\n",
       "      <th></th>\n",
       "      <th></th>\n",
       "      <th></th>\n",
       "      <th></th>\n",
       "    </tr>\n",
       "  </thead>\n",
       "  <tbody>\n",
       "    <tr>\n",
       "      <th>2021-05-09</th>\n",
       "      <td>58877.390625</td>\n",
       "      <td>59210.882813</td>\n",
       "      <td>56482.003906</td>\n",
       "      <td>58232.316406</td>\n",
       "      <td>58232.316406</td>\n",
       "      <td>65906690347</td>\n",
       "      <td>BTC</td>\n",
       "    </tr>\n",
       "    <tr>\n",
       "      <th>2021-05-10</th>\n",
       "      <td>58250.871094</td>\n",
       "      <td>59519.355469</td>\n",
       "      <td>54071.457031</td>\n",
       "      <td>55859.796875</td>\n",
       "      <td>55859.796875</td>\n",
       "      <td>71776546298</td>\n",
       "      <td>BTC</td>\n",
       "    </tr>\n",
       "    <tr>\n",
       "      <th>2021-05-11</th>\n",
       "      <td>55847.242188</td>\n",
       "      <td>56872.542969</td>\n",
       "      <td>54608.652344</td>\n",
       "      <td>56704.574219</td>\n",
       "      <td>56704.574219</td>\n",
       "      <td>61308396325</td>\n",
       "      <td>BTC</td>\n",
       "    </tr>\n",
       "    <tr>\n",
       "      <th>2021-05-12</th>\n",
       "      <td>56714.531250</td>\n",
       "      <td>57939.363281</td>\n",
       "      <td>49150.535156</td>\n",
       "      <td>49150.535156</td>\n",
       "      <td>49150.535156</td>\n",
       "      <td>75215403907</td>\n",
       "      <td>BTC</td>\n",
       "    </tr>\n",
       "    <tr>\n",
       "      <th>2021-05-13</th>\n",
       "      <td>49735.433594</td>\n",
       "      <td>51330.843750</td>\n",
       "      <td>46980.019531</td>\n",
       "      <td>49716.191406</td>\n",
       "      <td>49716.191406</td>\n",
       "      <td>96721152926</td>\n",
       "      <td>BTC</td>\n",
       "    </tr>\n",
       "  </tbody>\n",
       "</table>\n",
       "</div>"
      ],
      "text/plain": [
       "                    Open          High           Low         Close  \\\n",
       "Date                                                                 \n",
       "2021-05-09  58877.390625  59210.882813  56482.003906  58232.316406   \n",
       "2021-05-10  58250.871094  59519.355469  54071.457031  55859.796875   \n",
       "2021-05-11  55847.242188  56872.542969  54608.652344  56704.574219   \n",
       "2021-05-12  56714.531250  57939.363281  49150.535156  49150.535156   \n",
       "2021-05-13  49735.433594  51330.843750  46980.019531  49716.191406   \n",
       "\n",
       "               Adj Close       Volume symbol  \n",
       "Date                                          \n",
       "2021-05-09  58232.316406  65906690347    BTC  \n",
       "2021-05-10  55859.796875  71776546298    BTC  \n",
       "2021-05-11  56704.574219  61308396325    BTC  \n",
       "2021-05-12  49150.535156  75215403907    BTC  \n",
       "2021-05-13  49716.191406  96721152926    BTC  "
      ]
     },
     "execution_count": 192,
     "metadata": {},
     "output_type": "execute_result"
    }
   ],
   "source": [
    "btc_data = pd.read_csv('BTC-USD.csv', index_col='Date')\n",
    "btc_data['symbol']='BTC'\n",
    "btc_data.head()"
   ]
  },
  {
   "cell_type": "code",
   "execution_count": 193,
   "id": "e99a7a3a",
   "metadata": {},
   "outputs": [
    {
     "data": {
      "text/html": [
       "<div>\n",
       "<style scoped>\n",
       "    .dataframe tbody tr th:only-of-type {\n",
       "        vertical-align: middle;\n",
       "    }\n",
       "\n",
       "    .dataframe tbody tr th {\n",
       "        vertical-align: top;\n",
       "    }\n",
       "\n",
       "    .dataframe thead th {\n",
       "        text-align: right;\n",
       "    }\n",
       "</style>\n",
       "<table border=\"1\" class=\"dataframe\">\n",
       "  <thead>\n",
       "    <tr style=\"text-align: right;\">\n",
       "      <th></th>\n",
       "      <th>BTC</th>\n",
       "      <th>LTC</th>\n",
       "      <th>ADA</th>\n",
       "      <th>DOGE</th>\n",
       "      <th>ETH</th>\n",
       "      <th>BNB</th>\n",
       "    </tr>\n",
       "    <tr>\n",
       "      <th>Date</th>\n",
       "      <th></th>\n",
       "      <th></th>\n",
       "      <th></th>\n",
       "      <th></th>\n",
       "      <th></th>\n",
       "      <th></th>\n",
       "    </tr>\n",
       "  </thead>\n",
       "  <tbody>\n",
       "    <tr>\n",
       "      <th>2021-05-09</th>\n",
       "      <td>58232.316406</td>\n",
       "      <td>386.450775</td>\n",
       "      <td>1.770562</td>\n",
       "      <td>0.570070</td>\n",
       "      <td>3928.844727</td>\n",
       "      <td>662.228577</td>\n",
       "    </tr>\n",
       "    <tr>\n",
       "      <th>2021-05-10</th>\n",
       "      <td>55859.796875</td>\n",
       "      <td>359.329315</td>\n",
       "      <td>1.644696</td>\n",
       "      <td>0.449964</td>\n",
       "      <td>3952.293945</td>\n",
       "      <td>631.351990</td>\n",
       "    </tr>\n",
       "    <tr>\n",
       "      <th>2021-05-11</th>\n",
       "      <td>56704.574219</td>\n",
       "      <td>377.388794</td>\n",
       "      <td>1.764077</td>\n",
       "      <td>0.495231</td>\n",
       "      <td>4168.701172</td>\n",
       "      <td>672.333923</td>\n",
       "    </tr>\n",
       "    <tr>\n",
       "      <th>2021-05-12</th>\n",
       "      <td>49150.535156</td>\n",
       "      <td>303.084869</td>\n",
       "      <td>1.552775</td>\n",
       "      <td>0.385376</td>\n",
       "      <td>3785.848633</td>\n",
       "      <td>588.185181</td>\n",
       "    </tr>\n",
       "    <tr>\n",
       "      <th>2021-05-13</th>\n",
       "      <td>49716.191406</td>\n",
       "      <td>316.909332</td>\n",
       "      <td>1.933668</td>\n",
       "      <td>0.490374</td>\n",
       "      <td>3715.148438</td>\n",
       "      <td>571.434509</td>\n",
       "    </tr>\n",
       "  </tbody>\n",
       "</table>\n",
       "</div>"
      ],
      "text/plain": [
       "                     BTC         LTC       ADA      DOGE          ETH  \\\n",
       "Date                                                                    \n",
       "2021-05-09  58232.316406  386.450775  1.770562  0.570070  3928.844727   \n",
       "2021-05-10  55859.796875  359.329315  1.644696  0.449964  3952.293945   \n",
       "2021-05-11  56704.574219  377.388794  1.764077  0.495231  4168.701172   \n",
       "2021-05-12  49150.535156  303.084869  1.552775  0.385376  3785.848633   \n",
       "2021-05-13  49716.191406  316.909332  1.933668  0.490374  3715.148438   \n",
       "\n",
       "                   BNB  \n",
       "Date                    \n",
       "2021-05-09  662.228577  \n",
       "2021-05-10  631.351990  \n",
       "2021-05-11  672.333923  \n",
       "2021-05-12  588.185181  \n",
       "2021-05-13  571.434509  "
      ]
     },
     "execution_count": 193,
     "metadata": {},
     "output_type": "execute_result"
    }
   ],
   "source": [
    "btc_close = btc_data[['Close']]\n",
    "btc_close.columns = ['BTC']\n",
    "\n",
    "ltc_close = ltc_data[['Close']]\n",
    "ltc_close.columns = ['LTC']\n",
    "\n",
    "ada_close = ada_data[['Close']]\n",
    "ada_close.columns = ['ADA']\n",
    "\n",
    "doge_close = doge_data[['Close']]\n",
    "doge_close.columns = ['DOGE']\n",
    "\n",
    "eth_close = eth_data[['Close']]\n",
    "eth_close.columns = ['ETH']\n",
    "\n",
    "bnb_close = bnb_data[['Close']]\n",
    "bnb_close.columns = ['BNB']\n",
    "\n",
    "\n",
    "matrix = pd.concat([btc_close,ltc_close,ada_close,doge_close,eth_close,bnb_close], axis=1)\n",
    "matrix.head()\n"
   ]
  },
  {
   "cell_type": "code",
   "execution_count": 194,
   "id": "1e4ab63d",
   "metadata": {
    "scrolled": true
   },
   "outputs": [
    {
     "data": {
      "image/png": "[encoded data removed]",
      "text/plain": [
       "<Figure size 432x288 with 2 Axes>"
      ]
     },
     "metadata": {
      "needs_background": "light"
     },
     "output_type": "display_data"
    }
   ],
   "source": [
    "import seaborn as sb\n",
    "\n",
    "sb.heatmap(matrix.corr(),vmin=0, vmax=1, cmap='coolwarm', annot=True)\n",
    "plt.show()"
   ]
  },
  {
   "cell_type": "markdown",
   "id": "eb74241d",
   "metadata": {},
   "source": [
    "Surprisingly, some of the class 0 cryptocurrencies analyzed show weak correlation with bitcoin's price in the past year. Only ethereum and binance coin appear to strongly fluctuate with bitcoin due to its very high correlation coefficient (0.93, 0.83). This means that there are other factors to consider if investing in others like LTC, ADA, and especially DOGE with the lowest coefficient."
   ]
  },
  {
   "cell_type": "code",
   "execution_count": 195,
   "id": "150afaf3",
   "metadata": {
    "scrolled": false
   },
   "outputs": [
    {
     "data": {
      "text/plain": [
       "Text(0.5, 1.0, 'Litecoin closing price in the past year')"
      ]
     },
     "execution_count": 195,
     "metadata": {},
     "output_type": "execute_result"
    },
    {
     "data": {
      "image/png": "[encoded data removed]",
      "text/plain": [
       "<Figure size 720x2160 with 5 Axes>"
      ]
     },
     "metadata": {
      "needs_background": "light"
     },
     "output_type": "display_data"
    }
   ],
   "source": [
    "fig, ax = plt.subplots(nrows=5, ncols=1, figsize=(10, 30))\n",
    "plt.subplots_adjust(left=None, bottom=-0.2, right=None, top=None, wspace=.2, hspace=.2)\n",
    "\n",
    "ax[0].plot(btc_data[['Close']])\n",
    "ax[0].set_title(\"Bitcoin closing price in the past year\")\n",
    "\n",
    "ax[1].plot(eth_data[['Close']])\n",
    "ax[1].set_title(\"Ethereum closing price in the past year\")\n",
    "\n",
    "ax[2].plot(bnb_data[['Close']])\n",
    "ax[2].set_title(\"Binance Coin closing price in the past year\")\n",
    "\n",
    "ax[3].plot(doge_data[['Close']])\n",
    "ax[3].set_title(\"Dogecoin closing price in the past year\")\n",
    "\n",
    "ax[4].plot(ltc_data[['Close']])\n",
    "ax[4].set_title(\"Litecoin closing price in the past year\")"
   ]
  },
  {
   "cell_type": "markdown",
   "id": "59af3fc2",
   "metadata": {},
   "source": [
    "The Ethereum and Binance Coin closing charts mimic Bitcoin's graph very heavily. This information is useful for developing trading strategies."
   ]
  },
  {
   "cell_type": "markdown",
   "id": "c890a72f",
   "metadata": {},
   "source": [
    "## Continuation\n"
   ]
  },
  {
   "cell_type": "markdown",
   "id": "41e38488",
   "metadata": {},
   "source": [
    "Next, we will try implementing an LSTM model to attempt to predict the price for the next day of these same currencies (ADA, BTC, ETH, DOGE, BNB)."
   ]
  },
  {
   "cell_type": "code",
   "execution_count": 196,
   "id": "5c47c1fd",
   "metadata": {
    "scrolled": true
   },
   "outputs": [
    {
     "name": "stdout",
     "output_type": "stream",
     "text": [
      "Epoch 1/50\n",
      "2/2 [==============================] - 2s 444ms/step - loss: 0.2517 - val_loss: 0.0753\n",
      "Epoch 2/50\n",
      "2/2 [==============================] - 0s 60ms/step - loss: 0.2232 - val_loss: 0.0613\n",
      "Epoch 3/50\n",
      "2/2 [==============================] - 0s 55ms/step - loss: 0.1965 - val_loss: 0.0491\n",
      "Epoch 4/50\n",
      "2/2 [==============================] - 0s 54ms/step - loss: 0.1731 - val_loss: 0.0385\n",
      "Epoch 5/50\n",
      "2/2 [==============================] - 0s 55ms/step - loss: 0.1525 - val_loss: 0.0295\n",
      "Epoch 6/50\n",
      "2/2 [==============================] - 0s 45ms/step - loss: 0.1349 - val_loss: 0.0221\n",
      "Epoch 7/50\n",
      "2/2 [==============================] - 0s 46ms/step - loss: 0.1206 - val_loss: 0.0166\n",
      "Epoch 8/50\n",
      "2/2 [==============================] - 0s 42ms/step - loss: 0.1094 - val_loss: 0.0133\n",
      "Epoch 9/50\n",
      "2/2 [==============================] - 0s 43ms/step - loss: 0.1019 - val_loss: 0.0125\n",
      "Epoch 10/50\n",
      "2/2 [==============================] - 0s 58ms/step - loss: 0.0987 - val_loss: 0.0139\n",
      "Epoch 11/50\n",
      "2/2 [==============================] - 0s 57ms/step - loss: 0.0990 - val_loss: 0.0162\n",
      "Epoch 12/50\n",
      "2/2 [==============================] - 0s 62ms/step - loss: 0.0993 - val_loss: 0.0176\n",
      "Epoch 13/50\n",
      "2/2 [==============================] - 0s 59ms/step - loss: 0.0989 - val_loss: 0.0176\n",
      "Epoch 14/50\n",
      "2/2 [==============================] - 0s 57ms/step - loss: 0.0966 - val_loss: 0.0167\n",
      "Epoch 15/50\n",
      "2/2 [==============================] - 0s 57ms/step - loss: 0.0940 - val_loss: 0.0153\n",
      "Epoch 16/50\n",
      "2/2 [==============================] - 0s 55ms/step - loss: 0.0914 - val_loss: 0.0141\n",
      "Epoch 17/50\n",
      "2/2 [==============================] - 0s 66ms/step - loss: 0.0894 - val_loss: 0.0131\n",
      "Epoch 18/50\n",
      "2/2 [==============================] - 0s 51ms/step - loss: 0.0878 - val_loss: 0.0124\n",
      "Epoch 19/50\n",
      "2/2 [==============================] - 0s 55ms/step - loss: 0.0867 - val_loss: 0.0119\n",
      "Epoch 20/50\n",
      "2/2 [==============================] - 0s 51ms/step - loss: 0.0850 - val_loss: 0.0117\n",
      "Epoch 21/50\n",
      "2/2 [==============================] - 0s 61ms/step - loss: 0.0855 - val_loss: 0.0117\n",
      "Epoch 22/50\n",
      "2/2 [==============================] - 0s 59ms/step - loss: 0.0847 - val_loss: 0.0118\n",
      "Epoch 23/50\n",
      "2/2 [==============================] - 0s 63ms/step - loss: 0.0838 - val_loss: 0.0121\n",
      "Epoch 24/50\n",
      "2/2 [==============================] - 0s 80ms/step - loss: 0.0829 - val_loss: 0.0126\n",
      "Epoch 25/50\n",
      "2/2 [==============================] - 0s 63ms/step - loss: 0.0818 - val_loss: 0.0132\n",
      "Epoch 26/50\n",
      "2/2 [==============================] - 0s 49ms/step - loss: 0.0807 - val_loss: 0.0141\n",
      "Epoch 27/50\n",
      "2/2 [==============================] - 0s 52ms/step - loss: 0.0803 - val_loss: 0.0149\n",
      "Epoch 28/50\n",
      "2/2 [==============================] - 0s 62ms/step - loss: 0.0798 - val_loss: 0.0159\n",
      "Epoch 29/50\n",
      "2/2 [==============================] - 0s 60ms/step - loss: 0.0791 - val_loss: 0.0167\n",
      "Epoch 30/50\n",
      "2/2 [==============================] - 0s 66ms/step - loss: 0.0785 - val_loss: 0.0175\n",
      "Epoch 31/50\n",
      "2/2 [==============================] - 0s 48ms/step - loss: 0.0777 - val_loss: 0.0182\n",
      "Epoch 32/50\n",
      "2/2 [==============================] - 0s 47ms/step - loss: 0.0774 - val_loss: 0.0185\n",
      "Epoch 33/50\n",
      "2/2 [==============================] - 0s 43ms/step - loss: 0.0768 - val_loss: 0.0187\n",
      "Epoch 34/50\n",
      "2/2 [==============================] - 0s 48ms/step - loss: 0.0761 - val_loss: 0.0186\n",
      "Epoch 35/50\n",
      "2/2 [==============================] - 0s 59ms/step - loss: 0.0754 - val_loss: 0.0184\n",
      "Epoch 36/50\n",
      "2/2 [==============================] - 0s 56ms/step - loss: 0.0741 - val_loss: 0.0186\n",
      "Epoch 37/50\n",
      "2/2 [==============================] - 0s 62ms/step - loss: 0.0747 - val_loss: 0.0185\n",
      "Epoch 38/50\n",
      "2/2 [==============================] - 0s 59ms/step - loss: 0.0741 - val_loss: 0.0186\n",
      "Epoch 39/50\n",
      "2/2 [==============================] - 0s 52ms/step - loss: 0.0736 - val_loss: 0.0187\n",
      "Epoch 40/50\n",
      "2/2 [==============================] - 0s 63ms/step - loss: 0.0733 - val_loss: 0.0189\n",
      "Epoch 41/50\n",
      "2/2 [==============================] - 0s 62ms/step - loss: 0.0730 - val_loss: 0.0192\n",
      "Epoch 42/50\n",
      "2/2 [==============================] - 0s 71ms/step - loss: 0.0726 - val_loss: 0.0197\n",
      "Epoch 43/50\n",
      "2/2 [==============================] - 0s 56ms/step - loss: 0.0723 - val_loss: 0.0205\n",
      "Epoch 44/50\n",
      "2/2 [==============================] - 0s 47ms/step - loss: 0.0718 - val_loss: 0.0211\n",
      "Epoch 45/50\n",
      "2/2 [==============================] - 0s 57ms/step - loss: 0.0715 - val_loss: 0.0218\n",
      "Epoch 46/50\n",
      "2/2 [==============================] - 0s 63ms/step - loss: 0.0710 - val_loss: 0.0224\n",
      "Epoch 47/50\n",
      "2/2 [==============================] - 0s 74ms/step - loss: 0.0707 - val_loss: 0.0229\n",
      "Epoch 48/50\n",
      "2/2 [==============================] - 0s 69ms/step - loss: 0.0705 - val_loss: 0.0235\n",
      "Epoch 49/50\n",
      "2/2 [==============================] - 0s 67ms/step - loss: 0.0702 - val_loss: 0.0238\n",
      "Epoch 50/50\n",
      "2/2 [==============================] - 0s 62ms/step - loss: 0.0699 - val_loss: 0.0241\n"
     ]
    }
   ],
   "source": [
    "from tensorflow.keras.layers import Dense\n",
    "from tensorflow.keras.layers import Dropout\n",
    "from tensorflow.keras.layers import LSTM\n",
    "from tensorflow.keras.models import Sequential\n",
    "from tensorflow.keras.layers import Embedding\n",
    "\n",
    "\n",
    "scaler = MinMaxScaler(feature_range = (0, 1))\n",
    "scaled_data = scaler.fit_transform(btc_data['Close'].values.reshape(-1,1))\n",
    "\n",
    "# use only the past 30 days for predicting\n",
    "prediction_days = 30\n",
    "\n",
    "x_train, y_train = [], []\n",
    "\n",
    "for x in range(prediction_days, len(scaled_data)):\n",
    "    x_train.append(scaled_data[x - prediction_days: x, 0])\n",
    "    y_train.append(scaled_data[x, 0])\n",
    "    \n",
    "x_train, y_train = np.array(x_train), np.array(y_train)\n",
    "x_train = np.reshape(x_train, (x_train.shape[0], x_train.shape[1], 1))\n",
    "model = Sequential()\n",
    "\n",
    "model.add(LSTM(units = 32, return_sequences = True, input_shape = (x_train.shape[1], 1)))\n",
    "\n",
    "model.add(Dense(units = 1))\n",
    "\n",
    "# adam optimizer is the best applying gradient descent learning with \n",
    "# an eta (learning rate) of 0.01\n",
    "\n",
    "model.compile(optimizer = 'adam', loss = 'mean_squared_error')\n",
    "lstm = model.fit(x_train, y_train, epochs = 50, batch_size = 128, validation_split = 0.3)"
   ]
  },
  {
   "cell_type": "code",
   "execution_count": 197,
   "id": "8f3aa024",
   "metadata": {
    "scrolled": true
   },
   "outputs": [
    {
     "data": {
      "image/png": "[encoded data removed]",
      "text/plain": [
       "<Figure size 432x288 with 1 Axes>"
      ]
     },
     "metadata": {
      "needs_background": "light"
     },
     "output_type": "display_data"
    }
   ],
   "source": [
    "plt.plot(lstm.history['loss'])\n",
    "plt.plot(lstm.history['val_loss'])\n",
    "plt.title('Training and validation loss')\n",
    "plt.ylabel('loss')\n",
    "plt.xlabel('epochs')\n",
    "plt.legend(['training loss', 'validation loss'])\n",
    "plt.show()"
   ]
  },
  {
   "cell_type": "markdown",
   "id": "bd552f07",
   "metadata": {},
   "source": [
    "Not sure if this model is overfitting or underfitting because the losses are not converging and the validation loss starts to increase. We can try to add another LSTM layer to the model including Dropout, which helps with regularization and prediction accuracy."
   ]
  },
  {
   "cell_type": "code",
   "execution_count": 198,
   "id": "a12785bb",
   "metadata": {},
   "outputs": [
    {
     "name": "stdout",
     "output_type": "stream",
     "text": [
      "Epoch 1/50\n",
      "2/2 [==============================] - 2s 453ms/step - loss: 0.3945 - val_loss: 0.1306\n",
      "Epoch 2/50\n",
      "2/2 [==============================] - 0s 66ms/step - loss: 0.3457 - val_loss: 0.1092\n",
      "Epoch 3/50\n",
      "2/2 [==============================] - 0s 49ms/step - loss: 0.3054 - val_loss: 0.0907\n",
      "Epoch 4/50\n",
      "2/2 [==============================] - 0s 68ms/step - loss: 0.2694 - val_loss: 0.0746\n",
      "Epoch 5/50\n",
      "2/2 [==============================] - 0s 63ms/step - loss: 0.2369 - val_loss: 0.0606\n",
      "Epoch 6/50\n",
      "2/2 [==============================] - 0s 64ms/step - loss: 0.2085 - val_loss: 0.0483\n",
      "Epoch 7/50\n",
      "2/2 [==============================] - 0s 90ms/step - loss: 0.1833 - val_loss: 0.0377\n",
      "Epoch 8/50\n",
      "2/2 [==============================] - 0s 71ms/step - loss: 0.1608 - val_loss: 0.0289\n",
      "Epoch 9/50\n",
      "2/2 [==============================] - 0s 76ms/step - loss: 0.1426 - val_loss: 0.0219\n",
      "Epoch 10/50\n",
      "2/2 [==============================] - 0s 90ms/step - loss: 0.1270 - val_loss: 0.0170\n",
      "Epoch 11/50\n",
      "2/2 [==============================] - 0s 80ms/step - loss: 0.1149 - val_loss: 0.0145\n",
      "Epoch 12/50\n",
      "2/2 [==============================] - 0s 52ms/step - loss: 0.1070 - val_loss: 0.0146\n",
      "Epoch 13/50\n",
      "2/2 [==============================] - 0s 48ms/step - loss: 0.1024 - val_loss: 0.0169\n",
      "Epoch 14/50\n",
      "2/2 [==============================] - 0s 49ms/step - loss: 0.1030 - val_loss: 0.0201\n",
      "Epoch 15/50\n",
      "2/2 [==============================] - 0s 54ms/step - loss: 0.1037 - val_loss: 0.0225\n",
      "Epoch 16/50\n",
      "2/2 [==============================] - 0s 60ms/step - loss: 0.1033 - val_loss: 0.0231\n",
      "Epoch 17/50\n",
      "2/2 [==============================] - 0s 64ms/step - loss: 0.1027 - val_loss: 0.0223\n",
      "Epoch 18/50\n",
      "2/2 [==============================] - 0s 65ms/step - loss: 0.1002 - val_loss: 0.0206\n",
      "Epoch 19/50\n",
      "2/2 [==============================] - 0s 75ms/step - loss: 0.0971 - val_loss: 0.0188\n",
      "Epoch 20/50\n",
      "2/2 [==============================] - 0s 71ms/step - loss: 0.0950 - val_loss: 0.0170\n",
      "Epoch 21/50\n",
      "2/2 [==============================] - 0s 74ms/step - loss: 0.0940 - val_loss: 0.0157\n",
      "Epoch 22/50\n",
      "2/2 [==============================] - 0s 46ms/step - loss: 0.0923 - val_loss: 0.0147\n",
      "Epoch 23/50\n",
      "2/2 [==============================] - 0s 57ms/step - loss: 0.0915 - val_loss: 0.0140\n",
      "Epoch 24/50\n",
      "2/2 [==============================] - 0s 55ms/step - loss: 0.0907 - val_loss: 0.0136\n",
      "Epoch 25/50\n",
      "2/2 [==============================] - 0s 63ms/step - loss: 0.0899 - val_loss: 0.0134\n",
      "Epoch 26/50\n",
      "2/2 [==============================] - 0s 59ms/step - loss: 0.0896 - val_loss: 0.0133\n",
      "Epoch 27/50\n",
      "2/2 [==============================] - 0s 67ms/step - loss: 0.0887 - val_loss: 0.0134\n",
      "Epoch 28/50\n",
      "2/2 [==============================] - 0s 66ms/step - loss: 0.0882 - val_loss: 0.0137\n",
      "Epoch 29/50\n",
      "2/2 [==============================] - 0s 53ms/step - loss: 0.0866 - val_loss: 0.0141\n",
      "Epoch 30/50\n",
      "2/2 [==============================] - 0s 61ms/step - loss: 0.0867 - val_loss: 0.0147\n",
      "Epoch 31/50\n",
      "2/2 [==============================] - 0s 52ms/step - loss: 0.0856 - val_loss: 0.0153\n",
      "Epoch 32/50\n",
      "2/2 [==============================] - 0s 53ms/step - loss: 0.0852 - val_loss: 0.0160\n",
      "Epoch 33/50\n",
      "2/2 [==============================] - 0s 40ms/step - loss: 0.0849 - val_loss: 0.0168\n",
      "Epoch 34/50\n",
      "2/2 [==============================] - 0s 55ms/step - loss: 0.0842 - val_loss: 0.0176\n",
      "Epoch 35/50\n",
      "2/2 [==============================] - 0s 47ms/step - loss: 0.0836 - val_loss: 0.0181\n",
      "Epoch 36/50\n",
      "2/2 [==============================] - 0s 61ms/step - loss: 0.0832 - val_loss: 0.0186\n",
      "Epoch 37/50\n",
      "2/2 [==============================] - 0s 101ms/step - loss: 0.0829 - val_loss: 0.0189\n",
      "Epoch 38/50\n",
      "2/2 [==============================] - 0s 80ms/step - loss: 0.0822 - val_loss: 0.0191\n",
      "Epoch 39/50\n",
      "2/2 [==============================] - 0s 68ms/step - loss: 0.0819 - val_loss: 0.0193\n",
      "Epoch 40/50\n",
      "2/2 [==============================] - 0s 87ms/step - loss: 0.0815 - val_loss: 0.0193\n",
      "Epoch 41/50\n",
      "2/2 [==============================] - 0s 55ms/step - loss: 0.0812 - val_loss: 0.0194\n",
      "Epoch 42/50\n",
      "2/2 [==============================] - 0s 60ms/step - loss: 0.0808 - val_loss: 0.0193\n",
      "Epoch 43/50\n",
      "2/2 [==============================] - 0s 52ms/step - loss: 0.0803 - val_loss: 0.0192\n",
      "Epoch 44/50\n",
      "2/2 [==============================] - 0s 75ms/step - loss: 0.0798 - val_loss: 0.0191\n",
      "Epoch 45/50\n",
      "2/2 [==============================] - 0s 76ms/step - loss: 0.0792 - val_loss: 0.0191\n",
      "Epoch 46/50\n",
      "2/2 [==============================] - 0s 43ms/step - loss: 0.0790 - val_loss: 0.0192\n",
      "Epoch 47/50\n",
      "2/2 [==============================] - 0s 54ms/step - loss: 0.0791 - val_loss: 0.0194\n",
      "Epoch 48/50\n",
      "2/2 [==============================] - 0s 55ms/step - loss: 0.0783 - val_loss: 0.0196\n",
      "Epoch 49/50\n",
      "2/2 [==============================] - 0s 51ms/step - loss: 0.0779 - val_loss: 0.0199\n",
      "Epoch 50/50\n",
      "2/2 [==============================] - 0s 80ms/step - loss: 0.0777 - val_loss: 0.0202\n"
     ]
    }
   ],
   "source": [
    "model = Sequential()\n",
    "\n",
    "model.add(LSTM(units = 32, return_sequences = True, input_shape = (x_train.shape[1], 1)))\n",
    "model.add(Dropout(0.2)) \n",
    "\n",
    "model.add(Dense(units = 1))\n",
    "\n",
    "model.compile(optimizer = 'adam', loss = 'mean_squared_error')\n",
    "lstm = model.fit(x_train, y_train, epochs = 50, batch_size = 128, validation_split = 0.3)"
   ]
  },
  {
   "cell_type": "code",
   "execution_count": 199,
   "id": "293851fd",
   "metadata": {
    "scrolled": true
   },
   "outputs": [
    {
     "data": {
      "image/png": "[encoded data removed]",
      "text/plain": [
       "<Figure size 432x288 with 1 Axes>"
      ]
     },
     "metadata": {
      "needs_background": "light"
     },
     "output_type": "display_data"
    }
   ],
   "source": [
    "plt.plot(lstm.history['loss'])\n",
    "plt.plot(lstm.history['val_loss'])\n",
    "plt.title('Training and validation loss')\n",
    "plt.ylabel('loss')\n",
    "plt.xlabel('epochs')\n",
    "plt.legend(['training loss', 'validation loss'])\n",
    "plt.show()"
   ]
  },
  {
   "cell_type": "markdown",
   "id": "74ccce28",
   "metadata": {},
   "source": [
    "A little better. I think the model is still underfit so we can add another LSTM layer to see how it affects the model. Add another LSTM layer with the same parameters."
   ]
  },
  {
   "cell_type": "code",
   "execution_count": 200,
   "id": "cb430ae5",
   "metadata": {
    "scrolled": true
   },
   "outputs": [
    {
     "name": "stdout",
     "output_type": "stream",
     "text": [
      "Epoch 1/50\n",
      "2/2 [==============================] - 2s 340ms/step - loss: 0.2843 - val_loss: 0.0856\n",
      "Epoch 2/50\n",
      "2/2 [==============================] - 0s 31ms/step - loss: 0.2484 - val_loss: 0.0686\n",
      "Epoch 3/50\n",
      "2/2 [==============================] - 0s 33ms/step - loss: 0.2150 - val_loss: 0.0538\n",
      "Epoch 4/50\n",
      "2/2 [==============================] - 0s 34ms/step - loss: 0.1855 - val_loss: 0.0411\n",
      "Epoch 5/50\n",
      "2/2 [==============================] - 0s 41ms/step - loss: 0.1601 - val_loss: 0.0306\n",
      "Epoch 6/50\n",
      "2/2 [==============================] - 0s 51ms/step - loss: 0.1409 - val_loss: 0.0224\n",
      "Epoch 7/50\n",
      "2/2 [==============================] - 0s 64ms/step - loss: 0.1242 - val_loss: 0.0168\n",
      "Epoch 8/50\n",
      "2/2 [==============================] - 0s 60ms/step - loss: 0.1135 - val_loss: 0.0143\n",
      "Epoch 9/50\n",
      "2/2 [==============================] - 0s 57ms/step - loss: 0.1077 - val_loss: 0.0145\n",
      "Epoch 10/50\n",
      "2/2 [==============================] - 0s 41ms/step - loss: 0.1079 - val_loss: 0.0164\n",
      "Epoch 11/50\n",
      "2/2 [==============================] - 0s 63ms/step - loss: 0.1086 - val_loss: 0.0181\n",
      "Epoch 12/50\n",
      "2/2 [==============================] - 0s 57ms/step - loss: 0.1096 - val_loss: 0.0187\n",
      "Epoch 13/50\n",
      "2/2 [==============================] - 0s 65ms/step - loss: 0.1060 - val_loss: 0.0179\n",
      "Epoch 14/50\n",
      "2/2 [==============================] - 0s 67ms/step - loss: 0.1037 - val_loss: 0.0167\n",
      "Epoch 15/50\n",
      "2/2 [==============================] - 0s 47ms/step - loss: 0.1004 - val_loss: 0.0154\n",
      "Epoch 16/50\n",
      "2/2 [==============================] - 0s 79ms/step - loss: 0.0968 - val_loss: 0.0142\n",
      "Epoch 17/50\n",
      "2/2 [==============================] - 0s 78ms/step - loss: 0.0955 - val_loss: 0.0134\n",
      "Epoch 18/50\n",
      "2/2 [==============================] - 0s 48ms/step - loss: 0.0943 - val_loss: 0.0127\n",
      "Epoch 19/50\n",
      "2/2 [==============================] - 0s 55ms/step - loss: 0.0930 - val_loss: 0.0123\n",
      "Epoch 20/50\n",
      "2/2 [==============================] - 0s 59ms/step - loss: 0.0923 - val_loss: 0.0121\n",
      "Epoch 21/50\n",
      "2/2 [==============================] - 0s 61ms/step - loss: 0.0911 - val_loss: 0.0120\n",
      "Epoch 22/50\n",
      "2/2 [==============================] - 0s 153ms/step - loss: 0.0902 - val_loss: 0.0120\n",
      "Epoch 23/50\n",
      "2/2 [==============================] - 0s 64ms/step - loss: 0.0893 - val_loss: 0.0122\n",
      "Epoch 24/50\n",
      "2/2 [==============================] - 0s 57ms/step - loss: 0.0886 - val_loss: 0.0125\n",
      "Epoch 25/50\n",
      "2/2 [==============================] - 0s 64ms/step - loss: 0.0878 - val_loss: 0.0129\n",
      "Epoch 26/50\n",
      "2/2 [==============================] - 0s 60ms/step - loss: 0.0872 - val_loss: 0.0135\n",
      "Epoch 27/50\n",
      "2/2 [==============================] - 0s 52ms/step - loss: 0.0864 - val_loss: 0.0141\n",
      "Epoch 28/50\n",
      "2/2 [==============================] - 0s 47ms/step - loss: 0.0850 - val_loss: 0.0147\n",
      "Epoch 29/50\n",
      "2/2 [==============================] - 0s 50ms/step - loss: 0.0840 - val_loss: 0.0154\n",
      "Epoch 30/50\n",
      "2/2 [==============================] - 0s 69ms/step - loss: 0.0840 - val_loss: 0.0161\n",
      "Epoch 31/50\n",
      "2/2 [==============================] - 0s 79ms/step - loss: 0.0834 - val_loss: 0.0166\n",
      "Epoch 32/50\n",
      "2/2 [==============================] - 0s 70ms/step - loss: 0.0828 - val_loss: 0.0170\n",
      "Epoch 33/50\n",
      "2/2 [==============================] - 0s 58ms/step - loss: 0.0823 - val_loss: 0.0173\n",
      "Epoch 34/50\n",
      "2/2 [==============================] - 0s 68ms/step - loss: 0.0819 - val_loss: 0.0175\n",
      "Epoch 35/50\n",
      "2/2 [==============================] - 0s 47ms/step - loss: 0.0811 - val_loss: 0.0176\n",
      "Epoch 36/50\n",
      "2/2 [==============================] - 0s 64ms/step - loss: 0.0808 - val_loss: 0.0175\n",
      "Epoch 37/50\n",
      "2/2 [==============================] - 0s 68ms/step - loss: 0.0800 - val_loss: 0.0176\n",
      "Epoch 38/50\n",
      "2/2 [==============================] - 0s 60ms/step - loss: 0.0797 - val_loss: 0.0175\n",
      "Epoch 39/50\n",
      "2/2 [==============================] - 0s 59ms/step - loss: 0.0793 - val_loss: 0.0176\n",
      "Epoch 40/50\n",
      "2/2 [==============================] - 0s 63ms/step - loss: 0.0788 - val_loss: 0.0177\n",
      "Epoch 41/50\n",
      "2/2 [==============================] - 0s 62ms/step - loss: 0.0784 - val_loss: 0.0179\n",
      "Epoch 42/50\n",
      "2/2 [==============================] - 0s 52ms/step - loss: 0.0778 - val_loss: 0.0181\n",
      "Epoch 43/50\n",
      "2/2 [==============================] - 0s 49ms/step - loss: 0.0776 - val_loss: 0.0185\n",
      "Epoch 44/50\n",
      "2/2 [==============================] - 0s 64ms/step - loss: 0.0775 - val_loss: 0.0188\n",
      "Epoch 45/50\n",
      "2/2 [==============================] - 0s 77ms/step - loss: 0.0768 - val_loss: 0.0192\n",
      "Epoch 46/50\n",
      "2/2 [==============================] - 0s 51ms/step - loss: 0.0764 - val_loss: 0.0196\n",
      "Epoch 47/50\n",
      "2/2 [==============================] - 0s 52ms/step - loss: 0.0764 - val_loss: 0.0199\n",
      "Epoch 48/50\n",
      "2/2 [==============================] - 0s 56ms/step - loss: 0.0760 - val_loss: 0.0202\n",
      "Epoch 49/50\n",
      "2/2 [==============================] - 0s 63ms/step - loss: 0.0756 - val_loss: 0.0204\n",
      "Epoch 50/50\n",
      "2/2 [==============================] - 0s 59ms/step - loss: 0.0754 - val_loss: 0.0206\n"
     ]
    }
   ],
   "source": [
    "model = Sequential()\n",
    "\n",
    "model.add(LSTM(units = 32, return_sequences = True))\n",
    "model.add(Dropout(0.2))\n",
    "\n",
    "model.add(Dense(units = 1))\n",
    "\n",
    "model.compile(optimizer = 'adam', loss = 'mean_squared_error')\n",
    "lstm = model.fit(x_train, y_train, epochs = 50, batch_size = 128, validation_split = 0.3)"
   ]
  },
  {
   "cell_type": "code",
   "execution_count": 201,
   "id": "7f8d8c0b",
   "metadata": {},
   "outputs": [
    {
     "data": {
      "image/png": "[encoded data removed]",
      "text/plain": [
       "<Figure size 432x288 with 1 Axes>"
      ]
     },
     "metadata": {
      "needs_background": "light"
     },
     "output_type": "display_data"
    }
   ],
   "source": [
    "plt.plot(lstm.history['loss'])\n",
    "plt.plot(lstm.history['val_loss'])\n",
    "plt.title('Training and validation loss')\n",
    "plt.ylabel('loss')\n",
    "plt.xlabel('epochs')\n",
    "plt.legend(['training loss', 'validation loss'])\n",
    "plt.show()"
   ]
  },
  {
   "cell_type": "markdown",
   "id": "ab6a76a2",
   "metadata": {},
   "source": [
    "The third LSTM layer does not seem to help. There is probably not enough data to properly train the model. Since yahoo finance limits us to only 365 data points for each currency, we need more data to optimize this model. In comparison with the thousands of data points from the IMDB data used in the lecture to train an LSTM model. We will use the 3rd model with 3 LSTM layers to continue with the prediction implementation"
   ]
  },
  {
   "cell_type": "markdown",
   "id": "6660c4c1",
   "metadata": {},
   "source": [
    "## Model testing"
   ]
  },
  {
   "cell_type": "code",
   "execution_count": 290,
   "id": "7fe67541",
   "metadata": {
    "scrolled": true
   },
   "outputs": [
    {
     "name": "stdout",
     "output_type": "stream",
     "text": [
      "Epoch 1/50\n",
      "12/12 [==============================] - 5s 114ms/step - loss: 0.0871 - val_loss: 0.0149\n",
      "Epoch 2/50\n",
      "12/12 [==============================] - 1s 44ms/step - loss: 0.0268 - val_loss: 0.0086\n",
      "Epoch 3/50\n",
      "12/12 [==============================] - 1s 48ms/step - loss: 0.0236 - val_loss: 0.0084\n",
      "Epoch 4/50\n",
      "12/12 [==============================] - 1s 44ms/step - loss: 0.0186 - val_loss: 0.0070\n",
      "Epoch 5/50\n",
      "12/12 [==============================] - 0s 37ms/step - loss: 0.0203 - val_loss: 0.0063\n",
      "Epoch 6/50\n",
      "12/12 [==============================] - 1s 43ms/step - loss: 0.0186 - val_loss: 0.0068\n",
      "Epoch 7/50\n",
      "12/12 [==============================] - 1s 46ms/step - loss: 0.0152 - val_loss: 0.0063\n",
      "Epoch 8/50\n",
      "12/12 [==============================] - 0s 39ms/step - loss: 0.0137 - val_loss: 0.0060\n",
      "Epoch 9/50\n",
      "12/12 [==============================] - 0s 37ms/step - loss: 0.0140 - val_loss: 0.0058\n",
      "Epoch 10/50\n",
      "12/12 [==============================] - 0s 37ms/step - loss: 0.0132 - val_loss: 0.0064\n",
      "Epoch 11/50\n",
      "12/12 [==============================] - 0s 36ms/step - loss: 0.0137 - val_loss: 0.0066\n",
      "Epoch 12/50\n",
      "12/12 [==============================] - 0s 38ms/step - loss: 0.0109 - val_loss: 0.0064\n",
      "Epoch 13/50\n",
      "12/12 [==============================] - 0s 33ms/step - loss: 0.0123 - val_loss: 0.0096\n",
      "Epoch 14/50\n",
      "12/12 [==============================] - 0s 33ms/step - loss: 0.0127 - val_loss: 0.0070\n",
      "Epoch 15/50\n",
      "12/12 [==============================] - 0s 31ms/step - loss: 0.0126 - val_loss: 0.0103\n",
      "Epoch 16/50\n",
      "12/12 [==============================] - 0s 40ms/step - loss: 0.0135 - val_loss: 0.0091\n",
      "Epoch 17/50\n",
      "12/12 [==============================] - 0s 35ms/step - loss: 0.0113 - val_loss: 0.0076\n",
      "Epoch 18/50\n",
      "12/12 [==============================] - 0s 37ms/step - loss: 0.0128 - val_loss: 0.0067\n",
      "Epoch 19/50\n",
      "12/12 [==============================] - 0s 33ms/step - loss: 0.0126 - val_loss: 0.0075\n",
      "Epoch 20/50\n",
      "12/12 [==============================] - 0s 35ms/step - loss: 0.0131 - val_loss: 0.0067\n",
      "Epoch 21/50\n",
      "12/12 [==============================] - 0s 34ms/step - loss: 0.0117 - val_loss: 0.0061\n",
      "Epoch 22/50\n",
      "12/12 [==============================] - 0s 36ms/step - loss: 0.0105 - val_loss: 0.0054\n",
      "Epoch 23/50\n",
      "12/12 [==============================] - 1s 47ms/step - loss: 0.0100 - val_loss: 0.0056\n",
      "Epoch 24/50\n",
      "12/12 [==============================] - 1s 43ms/step - loss: 0.0105 - val_loss: 0.0057\n",
      "Epoch 25/50\n",
      "12/12 [==============================] - 1s 43ms/step - loss: 0.0105 - val_loss: 0.0055\n",
      "Epoch 26/50\n",
      "12/12 [==============================] - 1s 43ms/step - loss: 0.0091 - val_loss: 0.0067\n",
      "Epoch 27/50\n",
      "12/12 [==============================] - 0s 40ms/step - loss: 0.0094 - val_loss: 0.0073\n",
      "Epoch 28/50\n",
      "12/12 [==============================] - 0s 35ms/step - loss: 0.0114 - val_loss: 0.0052\n",
      "Epoch 29/50\n",
      "12/12 [==============================] - 0s 38ms/step - loss: 0.0099 - val_loss: 0.0054\n",
      "Epoch 30/50\n",
      "12/12 [==============================] - 0s 36ms/step - loss: 0.0095 - val_loss: 0.0059\n",
      "Epoch 31/50\n",
      "12/12 [==============================] - 0s 41ms/step - loss: 0.0094 - val_loss: 0.0064\n",
      "Epoch 32/50\n",
      "12/12 [==============================] - 0s 35ms/step - loss: 0.0102 - val_loss: 0.0056\n",
      "Epoch 33/50\n",
      "12/12 [==============================] - 0s 38ms/step - loss: 0.0089 - val_loss: 0.0051\n",
      "Epoch 34/50\n",
      "12/12 [==============================] - 1s 40ms/step - loss: 0.0096 - val_loss: 0.0050\n",
      "Epoch 35/50\n",
      "12/12 [==============================] - 1s 45ms/step - loss: 0.0097 - val_loss: 0.0064\n",
      "Epoch 36/50\n",
      "12/12 [==============================] - 1s 43ms/step - loss: 0.0092 - val_loss: 0.0050\n",
      "Epoch 37/50\n",
      "12/12 [==============================] - 0s 40ms/step - loss: 0.0094 - val_loss: 0.0050\n",
      "Epoch 38/50\n",
      "12/12 [==============================] - 0s 41ms/step - loss: 0.0091 - val_loss: 0.0054\n",
      "Epoch 39/50\n",
      "12/12 [==============================] - 1s 44ms/step - loss: 0.0096 - val_loss: 0.0067\n",
      "Epoch 40/50\n",
      "12/12 [==============================] - 0s 38ms/step - loss: 0.0090 - val_loss: 0.0051\n",
      "Epoch 41/50\n",
      "12/12 [==============================] - 0s 38ms/step - loss: 0.0089 - val_loss: 0.0053\n",
      "Epoch 42/50\n",
      "12/12 [==============================] - 0s 33ms/step - loss: 0.0075 - val_loss: 0.0052\n",
      "Epoch 43/50\n",
      "12/12 [==============================] - 0s 35ms/step - loss: 0.0093 - val_loss: 0.0051\n",
      "Epoch 44/50\n",
      "12/12 [==============================] - 0s 38ms/step - loss: 0.0091 - val_loss: 0.0048\n",
      "Epoch 45/50\n",
      "12/12 [==============================] - 0s 37ms/step - loss: 0.0107 - val_loss: 0.0052\n",
      "Epoch 46/50\n",
      "12/12 [==============================] - 1s 44ms/step - loss: 0.0108 - val_loss: 0.0042\n",
      "Epoch 47/50\n",
      "12/12 [==============================] - 1s 43ms/step - loss: 0.0082 - val_loss: 0.0045\n",
      "Epoch 48/50\n",
      "12/12 [==============================] - 1s 43ms/step - loss: 0.0082 - val_loss: 0.0052\n",
      "Epoch 49/50\n",
      "12/12 [==============================] - 1s 43ms/step - loss: 0.0085 - val_loss: 0.0045\n",
      "Epoch 50/50\n",
      "12/12 [==============================] - 1s 43ms/step - loss: 0.0089 - val_loss: 0.0046\n"
     ]
    },
    {
     "data": {
      "text/plain": [
       "Date\n",
       "2021-05-09    58232.316406\n",
       "2021-05-10    55859.796875\n",
       "2021-05-11    56704.574219\n",
       "2021-05-12    49150.535156\n",
       "2021-05-13    49716.191406\n",
       "                  ...     \n",
       "2022-05-05    36575.140625\n",
       "2022-05-06    36040.921875\n",
       "2022-05-07    35501.953125\n",
       "2022-05-08    34059.265625\n",
       "2022-05-09    33771.390625\n",
       "Name: Close, Length: 366, dtype: float64"
      ]
     },
     "execution_count": 290,
     "metadata": {},
     "output_type": "execute_result"
    }
   ],
   "source": [
    "## final 3 lstm layer model from the previous section above\n",
    "\n",
    "\n",
    "final_model = Sequential()\n",
    "\n",
    "final_model.add(LSTM(units = 32, return_sequences = True, input_shape = (x_train.shape[1], 1)))\n",
    "\n",
    "final_model.add(LSTM(units = 32, return_sequences = True))\n",
    "final_model.add(Dropout(0.2))\n",
    "\n",
    "final_model.add(LSTM(units = 32))\n",
    "final_model.add(Dropout(0.2))\n",
    "\n",
    "final_model.add(Dense(units = 1))\n",
    "\n",
    "final_model.compile(optimizer = 'adam', loss = 'mean_squared_error')\n",
    "final_model.fit(x_train, y_train, epochs = 50 ,batch_size = 20, validation_split=0.3)\n",
    "\n",
    "btc_model_data = btc_data['Close']\n",
    "btc_model_data"
   ]
  },
  {
   "cell_type": "code",
   "execution_count": 291,
   "id": "bdc203e2",
   "metadata": {},
   "outputs": [
    {
     "data": {
      "text/plain": [
       "array([[0.58220678],\n",
       "       [0.50451701],\n",
       "       [0.19613401],\n",
       "       [0.09192552],\n",
       "       [0.18295253],\n",
       "       [0.21052037],\n",
       "       [0.23240356],\n",
       "       [0.22496378],\n",
       "       [0.24585659],\n",
       "       [0.2930365 ],\n",
       "       [0.31887547],\n",
       "       [0.30276822],\n",
       "       [0.34406437],\n",
       "       [0.36306115],\n",
       "       [0.23232911],\n",
       "       [0.24705177],\n",
       "       [0.56442913],\n",
       "       [0.56006887],\n",
       "       [0.63099376],\n",
       "       [0.73525958],\n",
       "       [0.75557163],\n",
       "       [0.77166233],\n",
       "       [0.71516574],\n",
       "       [0.63066544],\n",
       "       [0.61872848],\n",
       "       [0.61529983],\n",
       "       [0.64373511],\n",
       "       [0.7889254 ],\n",
       "       [0.74413728],\n",
       "       [0.49411809],\n",
       "       [0.45709293],\n",
       "       [0.46375113],\n",
       "       [0.34028572],\n",
       "       [0.24125958],\n",
       "       [0.32967173],\n",
       "       [0.25741874],\n",
       "       [0.33307328],\n",
       "       [0.39745093],\n",
       "       [0.3894863 ],\n",
       "       [0.28759287],\n",
       "       [0.68801007],\n",
       "       [0.77281901],\n",
       "       [0.74138123],\n",
       "       [0.63386761],\n",
       "       [0.39185641],\n",
       "       [0.41106   ],\n",
       "       [0.33945366],\n",
       "       [0.31331546],\n",
       "       [0.36262273],\n",
       "       [0.59962987],\n",
       "       [0.41375272],\n",
       "       [0.36683638],\n",
       "       [0.37479872],\n",
       "       [0.29780723],\n",
       "       [0.43049635],\n",
       "       [0.40654713],\n",
       "       [0.53836396],\n",
       "       [0.52430335],\n",
       "       [0.58635653],\n",
       "       [0.61479866],\n",
       "       [0.54595064],\n",
       "       [0.5335493 ],\n",
       "       [0.62707791],\n",
       "       [0.66608296],\n",
       "       [0.74406967],\n",
       "       [0.77238771],\n",
       "       [0.78349432],\n",
       "       [0.95288285],\n",
       "       [0.97533824],\n",
       "       [1.        ],\n",
       "       [0.97056693],\n",
       "       [0.85928094],\n",
       "       [0.91353465],\n",
       "       [0.88339845],\n",
       "       [0.92608888],\n",
       "       [0.93843773],\n",
       "       [0.86054543],\n",
       "       [0.68899617],\n",
       "       [0.71069195],\n",
       "       [0.62188273],\n",
       "       [0.65799054],\n",
       "       [0.61604147],\n",
       "       [0.41991887],\n",
       "       [0.46411824],\n",
       "       [0.54002894],\n",
       "       [0.4501221 ],\n",
       "       [0.49524652],\n",
       "       [0.485828  ],\n",
       "       [0.43416204],\n",
       "       [0.51516351],\n",
       "       [0.56456605],\n",
       "       [0.55519203],\n",
       "       [0.49334051],\n",
       "       [0.43586838],\n",
       "       [0.41735052],\n",
       "       [0.41607718],\n",
       "       [0.48829794],\n",
       "       [0.31736253],\n",
       "       [0.39941542],\n",
       "       [0.43831521],\n",
       "       [0.35331631],\n",
       "       [0.28796455],\n",
       "       [0.34303977],\n",
       "       [0.34743825],\n",
       "       [0.29056256],\n",
       "       [0.43280513],\n",
       "       [0.20473787],\n",
       "       [0.16572769],\n",
       "       [0.12637064],\n",
       "       [0.02102146],\n",
       "       [0.        ]])"
      ]
     },
     "execution_count": 291,
     "metadata": {},
     "output_type": "execute_result"
    }
   ],
   "source": [
    "btc_model_input = btc_model_data[255 - len(btc_model_data):].values\n",
    "btc_model_input = btc_model_input.reshape(-1, 1)\n",
    "btc_model_input = scaler.fit_transform(btc_model_input)\n",
    "btc_model_input"
   ]
  },
  {
   "cell_type": "code",
   "execution_count": 292,
   "id": "482fc028",
   "metadata": {
    "scrolled": true
   },
   "outputs": [
    {
     "data": {
      "text/plain": [
       "numpy.ndarray"
      ]
     },
     "execution_count": 292,
     "metadata": {},
     "output_type": "execute_result"
    }
   ],
   "source": [
    "test = []\n",
    "\n",
    "for j in range(prediction_days, len(btc_model_input)):\n",
    "    test.append(btc_model_input[j-prediction_days:j, 0])\n",
    "test = np.array(test)\n",
    "test = np.reshape(test, (test.shape[0], test.shape[1], 1))\n",
    "\n",
    "type(test)"
   ]
  },
  {
   "cell_type": "code",
   "execution_count": 293,
   "id": "9e97a40a",
   "metadata": {},
   "outputs": [
    {
     "data": {
      "text/plain": [
       "(81, 1)"
      ]
     },
     "execution_count": 293,
     "metadata": {},
     "output_type": "execute_result"
    }
   ],
   "source": [
    "# prediction\n",
    "prediction = final_model.predict(test)\n",
    "prediction = scaler.inverse_transform(prediction)\n",
    "prediction.shape"
   ]
  },
  {
   "cell_type": "code",
   "execution_count": 294,
   "id": "1a0f60c9",
   "metadata": {
    "scrolled": true
   },
   "outputs": [
    {
     "data": {
      "image/png": "[encoded data removed]",
      "text/plain": [
       "<Figure size 432x288 with 1 Axes>"
      ]
     },
     "metadata": {
      "needs_background": "light"
     },
     "output_type": "display_data"
    }
   ],
   "source": [
    "plt.plot(prediction, label = 'Predicted Prices')\n",
    "plt.title('Bitcoin Price Prediction')\n",
    "plt.xlabel('Time')\n",
    "plt.ylabel('Price')\n",
    "plt.legend(loc = 'upper left')\n",
    "plt.show()"
   ]
  },
  {
   "cell_type": "markdown",
   "id": "bd6e2da9",
   "metadata": {},
   "source": [
    "Bitcoin prediction"
   ]
  },
  {
   "cell_type": "code",
   "execution_count": 295,
   "id": "7f21d635",
   "metadata": {},
   "outputs": [
    {
     "name": "stdout",
     "output_type": "stream",
     "text": [
      "[37250.836]\n"
     ]
    }
   ],
   "source": [
    "predicted_price = [prediction[-1]]\n",
    "\n",
    "print(predicted_price[0])"
   ]
  },
  {
   "cell_type": "markdown",
   "id": "f5c15d91",
   "metadata": {},
   "source": [
    "At the time of writing this (05/09), Bitcoin is trading at around $30,000, so our prediction is far from accurate."
   ]
  },
  {
   "cell_type": "markdown",
   "id": "9b2e8461",
   "metadata": {},
   "source": [
    "Let's quickly run the prediction for the other class 0 currencies. We can copy/paste the code to set up the datasets and simply change the original pandas dataframe with the currency."
   ]
  },
  {
   "cell_type": "code",
   "execution_count": 300,
   "id": "9a4fbf07",
   "metadata": {},
   "outputs": [],
   "source": [
    "eth_model_input = eth_data['Close']\n",
    "eth_model_input = eth_model_input[255 - len(eth_model_input):].values\n",
    "eth_model_input = eth_model_input.reshape(-1, 1)\n",
    "eth_model_input = scaler.fit_transform(eth_model_input)\n"
   ]
  },
  {
   "cell_type": "code",
   "execution_count": 301,
   "id": "6a791142",
   "metadata": {},
   "outputs": [
    {
     "data": {
      "text/plain": [
       "numpy.ndarray"
      ]
     },
     "execution_count": 301,
     "metadata": {},
     "output_type": "execute_result"
    }
   ],
   "source": [
    "test = []\n",
    "\n",
    "for j in range(prediction_days, len(eth_model_input)):\n",
    "    test.append(eth_model_input[j-prediction_days:j, 0])\n",
    "test = np.array(test)\n",
    "test = np.reshape(test, (test.shape[0], test.shape[1], 1))\n",
    "\n",
    "type(test)"
   ]
  },
  {
   "cell_type": "code",
   "execution_count": 302,
   "id": "c0cb46a0",
   "metadata": {},
   "outputs": [
    {
     "data": {
      "text/plain": [
       "(81, 1)"
      ]
     },
     "execution_count": 302,
     "metadata": {},
     "output_type": "execute_result"
    }
   ],
   "source": [
    "# prediction\n",
    "prediction = final_model.predict(test)\n",
    "prediction = scaler.inverse_transform(prediction)\n",
    "prediction.shape"
   ]
  },
  {
   "cell_type": "code",
   "execution_count": 303,
   "id": "36fbca42",
   "metadata": {},
   "outputs": [
    {
     "data": {
      "image/png": "[encoded data removed]",
      "text/plain": [
       "<Figure size 432x288 with 1 Axes>"
      ]
     },
     "metadata": {
      "needs_background": "light"
     },
     "output_type": "display_data"
    }
   ],
   "source": [
    "plt.plot(prediction, label = 'Predicted Prices')\n",
    "plt.title('Ethereum Price Prediction')\n",
    "plt.xlabel('Time')\n",
    "plt.ylabel('Price')\n",
    "plt.legend(loc = 'upper left')\n",
    "plt.show()"
   ]
  },
  {
   "cell_type": "code",
   "execution_count": 304,
   "id": "af307de3",
   "metadata": {},
   "outputs": [
    {
     "name": "stdout",
     "output_type": "stream",
     "text": [
      "[2751.8884]\n"
     ]
    }
   ],
   "source": [
    "predicted_price = [prediction[-1]]\n",
    "\n",
    "print(predicted_price[0])"
   ]
  },
  {
   "cell_type": "markdown",
   "id": "6529a601",
   "metadata": {},
   "source": [
    "Ethereum is currently ~$2200, so once again not too accurate."
   ]
  },
  {
   "cell_type": "markdown",
   "id": "18c2aeee",
   "metadata": {},
   "source": [
    "Litecoin prediction"
   ]
  },
  {
   "cell_type": "code",
   "execution_count": 311,
   "id": "2e7c3273",
   "metadata": {},
   "outputs": [],
   "source": [
    "ltc_model_data = ltc_data['Close']"
   ]
  },
  {
   "cell_type": "code",
   "execution_count": 312,
   "id": "bc47ccab",
   "metadata": {},
   "outputs": [
    {
     "data": {
      "text/plain": [
       "numpy.ndarray"
      ]
     },
     "execution_count": 312,
     "metadata": {},
     "output_type": "execute_result"
    }
   ],
   "source": [
    "ltc_model_input = ltc_model_data[255 - len(ltc_model_data):].values\n",
    "ltc_model_input = ltc_model_input.reshape(-1, 1)\n",
    "ltc_model_input = scaler.fit_transform(ltc_model_input)\n",
    "test = []\n",
    "\n",
    "for j in range(prediction_days, len(ltc_model_input)):\n",
    "    test.append(ltc_model_input[j-prediction_days:j, 0])\n",
    "test = np.array(test)\n",
    "test = np.reshape(test, (test.shape[0], test.shape[1], 1))\n",
    "\n",
    "type(test)"
   ]
  },
  {
   "cell_type": "code",
   "execution_count": 313,
   "id": "de3870ba",
   "metadata": {},
   "outputs": [
    {
     "data": {
      "text/plain": [
       "(81, 1)"
      ]
     },
     "execution_count": 313,
     "metadata": {},
     "output_type": "execute_result"
    }
   ],
   "source": [
    "# prediction\n",
    "prediction = final_model.predict(test)\n",
    "prediction = scaler.inverse_transform(prediction)\n",
    "prediction.shape"
   ]
  },
  {
   "cell_type": "code",
   "execution_count": 314,
   "id": "fe27fbb4",
   "metadata": {},
   "outputs": [
    {
     "data": {
      "image/png": "[encoded data removed]",
      "text/plain": [
       "<Figure size 432x288 with 1 Axes>"
      ]
     },
     "metadata": {
      "needs_background": "light"
     },
     "output_type": "display_data"
    }
   ],
   "source": [
    "plt.plot(prediction, label = 'Predicted Prices')\n",
    "plt.title('Litecoin Price Prediction')\n",
    "plt.xlabel('Time')\n",
    "plt.ylabel('Price')\n",
    "plt.legend(loc = 'upper left')\n",
    "plt.show()"
   ]
  },
  {
   "cell_type": "markdown",
   "id": "7b8841da",
   "metadata": {},
   "source": [
    "Litecoin predicted price"
   ]
  },
  {
   "cell_type": "code",
   "execution_count": 315,
   "id": "e08e526a",
   "metadata": {},
   "outputs": [
    {
     "name": "stdout",
     "output_type": "stream",
     "text": [
      "[98.759026]\n"
     ]
    }
   ],
   "source": [
    "predicted_price = [prediction[-1]]\n",
    "\n",
    "print(predicted_price[0])"
   ]
  },
  {
   "cell_type": "markdown",
   "id": "fe96786e",
   "metadata": {},
   "source": [
    "Once again Litecoin is ~$75, so the model needs improvement"
   ]
  },
  {
   "cell_type": "markdown",
   "id": "db070a15",
   "metadata": {},
   "source": [
    "Binance Coin Prediction"
   ]
  },
  {
   "cell_type": "code",
   "execution_count": 316,
   "id": "2c53d219",
   "metadata": {},
   "outputs": [
    {
     "data": {
      "text/plain": [
       "(81, 1)"
      ]
     },
     "execution_count": 316,
     "metadata": {},
     "output_type": "execute_result"
    }
   ],
   "source": [
    "bnb_model_data = bnb_data['Close']\n",
    "bnb_model_input = bnb_model_data[255 - len(bnb_model_data):].values\n",
    "bnb_model_input = bnb_model_input.reshape(-1, 1)\n",
    "bnb_model_input = scaler.fit_transform(bnb_model_input)\n",
    "test = []\n",
    "\n",
    "for j in range(prediction_days, len(bnb_model_input)):\n",
    "    test.append(bnb_model_input[j-prediction_days:j, 0])\n",
    "test = np.array(test)\n",
    "test = np.reshape(test, (test.shape[0], test.shape[1], 1))\n",
    "\n",
    "# prediction\n",
    "prediction = final_model.predict(test)\n",
    "prediction = scaler.inverse_transform(prediction)\n",
    "prediction.shape"
   ]
  },
  {
   "cell_type": "code",
   "execution_count": 318,
   "id": "387b7967",
   "metadata": {},
   "outputs": [
    {
     "data": {
      "image/png": "[encoded data removed]",
      "text/plain": [
       "<Figure size 432x288 with 1 Axes>"
      ]
     },
     "metadata": {
      "needs_background": "light"
     },
     "output_type": "display_data"
    }
   ],
   "source": [
    "plt.plot(prediction, label = 'Predicted Prices')\n",
    "plt.title('Binance Coin Price Prediction')\n",
    "plt.xlabel('Time')\n",
    "plt.ylabel('Price')\n",
    "plt.legend(loc = 'upper left')\n",
    "plt.show()"
   ]
  },
  {
   "cell_type": "code",
   "execution_count": 319,
   "id": "5c8243a5",
   "metadata": {},
   "outputs": [
    {
     "name": "stdout",
     "output_type": "stream",
     "text": [
      "[381.2284]\n"
     ]
    }
   ],
   "source": [
    "predicted_price = [prediction[-1]]\n",
    "\n",
    "print(predicted_price[0])"
   ]
  },
  {
   "cell_type": "markdown",
   "id": "225c1437",
   "metadata": {},
   "source": [
    "Once again BNB is ~$200, so the model needs improvement"
   ]
  },
  {
   "cell_type": "markdown",
   "id": "11398d46",
   "metadata": {},
   "source": [
    "Dogecoin prediction"
   ]
  },
  {
   "cell_type": "code",
   "execution_count": 324,
   "id": "8e11d41c",
   "metadata": {},
   "outputs": [
    {
     "data": {
      "image/png": "[encoded data removed]",
      "text/plain": [
       "<Figure size 432x288 with 1 Axes>"
      ]
     },
     "metadata": {
      "needs_background": "light"
     },
     "output_type": "display_data"
    }
   ],
   "source": [
    "doge_model_data = doge_data['Close']\n",
    "doge_model_input = doge_model_data[255 - len(doge_model_data):].values\n",
    "doge_model_input = doge_model_input.reshape(-1, 1)\n",
    "doge_model_input = scaler.fit_transform(doge_model_input)\n",
    "test = []\n",
    "\n",
    "for j in range(prediction_days, len(doge_model_input)):\n",
    "    test.append(doge_model_input[j-prediction_days:j, 0])\n",
    "test = np.array(test)\n",
    "test = np.reshape(test, (test.shape[0], test.shape[1], 1))\n",
    "\n",
    "# prediction\n",
    "prediction = final_model.predict(test)\n",
    "prediction = scaler.inverse_transform(prediction)\n",
    "prediction.shape\n",
    "\n",
    "plt.plot(prediction, label = 'Predicted Prices')\n",
    "plt.title('Doge Coin Price Prediction')\n",
    "plt.xlabel('Time')\n",
    "plt.ylabel('Price')\n",
    "plt.legend(loc = 'upper left')\n",
    "plt.show()"
   ]
  },
  {
   "cell_type": "code",
   "execution_count": 325,
   "id": "03eec6b3",
   "metadata": {},
   "outputs": [
    {
     "name": "stdout",
     "output_type": "stream",
     "text": [
      "[0.12924623]\n"
     ]
    }
   ],
   "source": [
    "predicted_price = [prediction[-1]]\n",
    "\n",
    "print(predicted_price[0])"
   ]
  },
  {
   "cell_type": "markdown",
   "id": "490fdf6f",
   "metadata": {},
   "source": [
    "Doge is currently at ~$0.10"
   ]
  },
  {
   "cell_type": "markdown",
   "id": "a1e75f30",
   "metadata": {},
   "source": [
    "13 cents tommorow is not impossible, this is the closest one yet"
   ]
  },
  {
   "cell_type": "markdown",
   "id": "7c4d66e2",
   "metadata": {},
   "source": [
    "Cardano Prediction"
   ]
  },
  {
   "cell_type": "code",
   "execution_count": 326,
   "id": "1090888a",
   "metadata": {},
   "outputs": [
    {
     "data": {
      "image/png": "[encoded data removed]",
      "text/plain": [
       "<Figure size 432x288 with 1 Axes>"
      ]
     },
     "metadata": {
      "needs_background": "light"
     },
     "output_type": "display_data"
    }
   ],
   "source": [
    "ada_model_data = ada_data['Close']\n",
    "ada_model_input = ada_model_data[255 - len(ada_model_data):].values\n",
    "ada_model_input = ada_model_input.reshape(-1, 1)\n",
    "ada_model_input = scaler.fit_transform(ada_model_input)\n",
    "test = []\n",
    "\n",
    "for j in range(prediction_days, len(ada_model_input)):\n",
    "    test.append(ada_model_input[j-prediction_days:j, 0])\n",
    "test = np.array(test)\n",
    "test = np.reshape(test, (test.shape[0], test.shape[1], 1))\n",
    "\n",
    "# prediction\n",
    "prediction = final_model.predict(test)\n",
    "prediction = scaler.inverse_transform(prediction)\n",
    "prediction.shape\n",
    "\n",
    "plt.plot(prediction, label = 'Predicted Prices')\n",
    "plt.title('Cardano Price Prediction')\n",
    "plt.xlabel('Time')\n",
    "plt.ylabel('Price')\n",
    "plt.legend(loc = 'upper left')\n",
    "plt.show()"
   ]
  },
  {
   "cell_type": "code",
   "execution_count": 327,
   "id": "8aa5678f",
   "metadata": {},
   "outputs": [
    {
     "name": "stdout",
     "output_type": "stream",
     "text": [
      "[0.79230654]\n"
     ]
    }
   ],
   "source": [
    "predicted_price = [prediction[-1]]\n",
    "\n",
    "print(predicted_price[0])"
   ]
  },
  {
   "cell_type": "markdown",
   "id": "51520ebb",
   "metadata": {},
   "source": [
    "Ada is trading at 62 cents, and 80 cents is a good distance away."
   ]
  },
  {
   "cell_type": "markdown",
   "id": "c7470ea4",
   "metadata": {},
   "source": [
    "### Conclusion"
   ]
  },
  {
   "cell_type": "markdown",
   "id": "f45a9266",
   "metadata": {},
   "source": [
    "The three layer LSTM model yielded poor prediction results. There are a number of reasons why this happened. \n",
    "1. The model overfit\n",
    "2. The 70/30 split will have worked better if our data size was in the thousands, only a year of data is not enough to make a good LSTM model.\n",
    "3. Since we predict based on only the last 30 days of price history, the current cr"
   ]
  }
 ],
 "metadata": {
  "kernelspec": {
   "display_name": "Python 3 (ipykernel)",
   "language": "python",
   "name": "python3"
  },
  "language_info": {
   "codemirror_mode": {
    "name": "ipython",
    "version": 3
   },
   "file_extension": ".py",
   "mimetype": "text/x-python",
   "name": "python",
   "nbconvert_exporter": "python",
   "pygments_lexer": "ipython3",
   "version": "3.10.4"
  }
 },
 "nbformat": 4,
 "nbformat_minor": 5
}
